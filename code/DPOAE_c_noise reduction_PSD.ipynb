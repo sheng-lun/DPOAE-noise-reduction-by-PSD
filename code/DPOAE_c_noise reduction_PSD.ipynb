{
 "cells": [
  {
   "cell_type": "code",
   "execution_count": 1,
   "metadata": {},
   "outputs": [],
   "source": [
    "#!/usr/bin/env python --> jupyter\n",
    "# coding: utf-8\n",
    "# written by Sheng Lun Kao\n",
    "\n",
    "# In[1]:\n",
    "import numpy\n",
    "import numpy as np\n",
    "import matplotlib.pyplot as plt\n",
    "import soundfile as sf #SoundFile\n",
    "import sounddevice as sd\n",
    "import scipy.signal\n",
    "from scipy import signal #scipy.signal.firwin_FIR filter\n",
    "from scipy import optimize #golden search\n",
    "import matplotlib.pylab as plt\n",
    "import time #time.sleep\n",
    "import math\n",
    "import cmath"
   ]
  },
  {
   "cell_type": "code",
   "execution_count": 2,
   "metadata": {},
   "outputs": [],
   "source": [
    "#recursive averaging(Step123) RA\n",
    "def Step123(self, timesignal, fs, i):\n",
    "    framelength=int(fs*32*10**-3) #fs*32ms\n",
    "    RA_nfft=framelength*2\n",
    "    RA_axis = np.arange(int(RA_nfft / 2)) * (fs/RA_nfft)\n",
    "    overlap=0.5 #50%\n",
    "    frameNumber=((len(timesignal)-framelength)/(framelength*overlap))+1\n",
    "    frameNumber=int(frameNumber)\n",
    "    \n",
    "    ss=[]\n",
    "    for j in range(frameNumber):\n",
    "        if j==0:\n",
    "            sta=int(j*framelength)\n",
    "            end=int((j+1)*framelength)\n",
    "        if j>0:\n",
    "            sta=int(sta+framelength*overlap)\n",
    "            end=int(end+framelength*overlap)\n",
    "        fftx=np.fft.fft(timesignal[sta:end]*np.hanning(framelength), RA_nfft) / int(RA_nfft /8) #RA_nfft=framelength*2\n",
    "        if j==0:\n",
    "            ss=abs(fftx)*abs(fftx) #|fftx|*|fftx|\n",
    "        if j>0:\n",
    "            newss=0.9*ss+0.1*abs(fftx)*abs(fftx) #s(l)=0.9s(l-1)+0.1s(l)\n",
    "            ss=newss\n",
    "        #print(\"ss=\",ss)\n",
    "    return RA_axis, RA_nfft, ss\n",
    "\n",
    "#signal to noise ratio(SNR), the larger the better.\n",
    "def SNR(RA_power, RA_spectrum, f3, fs, RA_nfft):\n",
    "    signal_e_1_l3_l=RA_spectrum[int(round(f3 / (fs/RA_nfft)))]\n",
    "    e_1_noise_LR_points = []\n",
    "    abar_e_1=0\n",
    "    std_noi_e_1=0\n",
    "    for aa in range(4):\n",
    "        e_1_noise_LR_points.append(RA_power[int(round((f3-3*(fs/RA_nfft)-aa*(fs/RA_nfft)) / (fs/RA_nfft)))])\n",
    "        e_1_noise_LR_points.append(RA_power[int(round((f3+3*(fs/RA_nfft)+aa*(fs/RA_nfft)) / (fs/RA_nfft)))])\n",
    "    for bb in range(len(e_1_noise_LR_points)):\n",
    "        abar_e_1=abar_e_1+e_1_noise_LR_points[bb]/(len(e_1_noise_LR_points)/2)\n",
    "    #print(\"e_1_noise_LR_points=\",e_1_noise_LR_points)\n",
    "    std_noi_e_1=np.std(e_1_noise_LR_points)\n",
    "    #noise2sd_e_1=10 * np.log10(np.abs(abar_e_1+2*std_noi_e_1)) + 94\n",
    "    noise2sd_e_1=10 * np.log10(np.abs(abar_e_1)) + 94\n",
    "    SNR_e_1=signal_e_1_l3_l-noise2sd_e_1\n",
    "    return signal_e_1_l3_l, abar_e_1, std_noi_e_1, noise2sd_e_1, SNR_e_1\n",
    "\n",
    "#Power Spectral Density(PSD) v2\n",
    "def PSDv2(self, Cathy, AHGLAB, L1, L2, fs, i):\n",
    "    num_PSDgain_negative=0\n",
    "    L1L2=L1+L2\n",
    "    framelength=int(fs*32*10**-3) #fs*32ms\n",
    "    denoised_Cathy_time = np.zeros(len(Cathy)+framelength)\n",
    "    RA_nfft=framelength*2\n",
    "    RA_axis = np.arange(int(RA_nfft / 2)) * (fs/RA_nfft)\n",
    "    overlap=0.5 #50%\n",
    "    frameNumber=((len(Cathy)-framelength)/(framelength*overlap))+1\n",
    "    frameNumber=int(frameNumber)\n",
    "    print(\"\\nPSDv2 frameNumber=\",frameNumber)\n",
    "    \n",
    "    ss=[]\n",
    "    for j in range(frameNumber):\n",
    "        #print(\"j=\",j)\n",
    "        if j==0:\n",
    "            sta=int(j*framelength)\n",
    "            end=int((j+1)*framelength)\n",
    "        if j>0:\n",
    "            sta=int(sta+framelength*overlap)\n",
    "            end=int(end+framelength*overlap)\n",
    "        fftx_Cathy=np.fft.fft(Cathy[sta:end]*np.hanning(framelength), RA_nfft) / int(RA_nfft /8) #RA_nfft=framelength*2\n",
    "        fftx_AHGLAB=np.fft.fft(AHGLAB[sta:end]*np.hanning(framelength), RA_nfft) / int(RA_nfft /8)\n",
    "        fftx_L1L2=np.fft.fft(L1L2[sta:end]*np.hanning(framelength), RA_nfft) / int(RA_nfft /8)\n",
    "\n",
    "        if j==0:\n",
    "            ss_Cathy=abs(fftx_Cathy)*abs(fftx_Cathy) #|fftx|*|fftx|\n",
    "            ss_AHGLAB=abs(fftx_AHGLAB)*abs(fftx_AHGLAB)\n",
    "            ss_L1L2=abs(fftx_L1L2)*abs(fftx_L1L2)\n",
    "        if j>0:\n",
    "            newss_Cathy=0.9*ss_Cathy+0.1*abs(fftx_Cathy)*abs(fftx_Cathy) #s(l)=0.9s(l-1)+0.1s(l)\n",
    "            newss_AHGLAB=0.9*ss_AHGLAB+0.1*abs(fftx_AHGLAB)*abs(fftx_AHGLAB)\n",
    "            newss_L1L2=0.9*ss_L1L2+0.1*abs(fftx_L1L2)*abs(fftx_L1L2)\n",
    "            ss_Cathy=newss_Cathy\n",
    "            ss_AHGLAB=newss_AHGLAB\n",
    "            ss_L1L2=newss_L1L2\n",
    "    G=1-((ss_AHGLAB+ss_L1L2)/ss_Cathy)\n",
    "    for qq in range(len(G)):\n",
    "        if G[qq]<0:\n",
    "            G[qq]=0.001 \n",
    "            num_PSDgain_negative=num_PSDgain_negative+1\n",
    "    RA_PSD_power=ss_Cathy*G\n",
    "    print(\"len(G)=\",len(G))\n",
    "    \n",
    "    denoised_Cathy_time=y=np.fft.ifft(RA_PSD_power, RA_nfft)\n",
    "    return RA_axis, RA_nfft, RA_PSD_power, denoised_Cathy_time, num_PSDgain_negative"
   ]
  },
  {
   "cell_type": "code",
   "execution_count": 3,
   "metadata": {},
   "outputs": [
    {
     "name": "stdout",
     "output_type": "stream",
     "text": [
      "savename=  Albert_ER10C_Cathy test-in__ER10C_CMU ref-out__ER10C_AHGLAB ref-in_20201205-2014\n"
     ]
    }
   ],
   "source": [
    "title_font = {'size' : '26'} #標題的字大小\n",
    "axis_font = {'size' : '20'} #XY軸的字大小\n",
    "tick_font= {'size' : '14'} #XY刻度的字大小\n",
    "\n",
    "#name = 'Albert_ER10C_Cathy test-in__ER10C_CMU ref-out__ER10C_AHGLAB ref-in_20201205-1946' #quiet 34 dBA\n",
    "#name = 'Albert_ER10C_Cathy test-in__ER10C_CMU ref-out__ER10C_AHGLAB ref-in_20201205-2003' #with 2speaker_L&R white noise 70 dBA\n",
    "name = 'Albert_ER10C_Cathy test-in__ER10C_CMU ref-out__ER10C_AHGLAB ref-in_20201205-2014' #with 2speaker_L&R white noise 75 dBA\n",
    "\n",
    "savename=name\n",
    "print(\"savename= \",savename)"
   ]
  },
  {
   "cell_type": "code",
   "execution_count": 4,
   "metadata": {},
   "outputs": [
    {
     "name": "stdout",
     "output_type": "stream",
     "text": [
      "10 pair DPOAE\n",
      "f1= [600, 800, 900, 1200, 2500, 3200, 3600, 4000, 4800, 6000]\n",
      "f2= [732, 976, 1098, 1464, 3050, 3904, 4392, 4880, 5856, 7320]\n",
      "f3= [468, 624, 702, 936, 1950, 2496, 2808, 3120, 3744, 4680]\n"
     ]
    }
   ],
   "source": [
    "freq_ratio = 1.22\n",
    "f1 = [600, 800, 900, 1200, 2500, 3200, 3600, 4000, 4800, 6000] #ten pair DPOAE\n",
    "f2 = [int(i * freq_ratio) for i in f1]\n",
    "f3 = [int(2 * f1[i] - f2[i]) for i in range(len(f1))]\n",
    "\n",
    "print(\"%d pair DPOAE\" %len(f1))\n",
    "print(\"f1=\",f1)\n",
    "print(\"f2=\",f2)\n",
    "print(\"f3=\",f3)"
   ]
  },
  {
   "cell_type": "code",
   "execution_count": 5,
   "metadata": {},
   "outputs": [],
   "source": [
    "interval = [10, 10, 10, 8, 3, 3, 2, 2, 2, 2]\n",
    "latency = 0.1\n",
    "\n",
    "Cathay_amp2pa = 48.81110086394624 #ER10C Cathay 20201205\n",
    "CMU_amp2pa = 154.62211980677176 #ER10C CMU 20201205\n",
    "AHGLAB_amp2pa = 36.96203340311423 #ER10C AHGLAB 20201205"
   ]
  },
  {
   "cell_type": "code",
   "execution_count": 6,
   "metadata": {},
   "outputs": [],
   "source": [
    "%matplotlib qt\n",
    "my_dpi=96\n",
    "total_Cathy_signal_l = []\n",
    "total_CMU_signal_l = []\n",
    "total_AHGLAB_signal_l = []\n",
    "total_signal_L1 = []\n",
    "total_signal_L2 = []\n",
    "\n",
    "##Computer input pure tone L1_65dB L2_55dB\n",
    "#L1coef = [1.5033643880137298e-07, 1.6366725153372244e-07, 1.725963049062674e-07, 2.1261368565524393e-07, 1.357374805657057e-07, 1.6366616950089408e-07, 2.1260122636992564e-07, 1.636626522745312e-07, 1.3535048251839166e-07, 2.1261168416772045e-07]\n",
    "#L2coef = [5.0127877855656796e-08, 5.712135476050241e-08, 6.207146665508096e-08, 5.573571904524015e-08, 4.843786611664115e-08, 5.4454447084449244e-08, 4.490612728584626e-08, 4.287985078190208e-08, 6.02320827596776e-08, 4.297804067343508e-08]\n",
    "\n",
    "##20201205 Cathy mic recorded L1≌65dB L2≌55dB_quiet 34 dBA\n",
    "#L1coef =  [1.3865752932333504e-07, 1.4963697561730276e-07, 1.5741550359743908e-07, 1.962997330431317e-07, 1.1756307470982178e-07, 1.332243338827061e-07, 1.6476799799906895e-07, 1.20468242510813e-07, 9.84579799817826e-08, 1.3462647538142852e-07]\n",
    "#L2coef =  [4.4800709210325965e-08, 5.009662545025079e-08, 5.4606011113025336e-08, 4.897131331417553e-08, 3.926952864086951e-08, 4.118249630196962e-08, 3.512781685344428e-08, 3.118525903144975e-08, 3.906556932547179e-08, 5.5240621549288975e-08]\n",
    "##Cathy mic recorded L1≌65dB L2≌55dB_white noise 70 dBA\n",
    "#L1coef =  [1.2958026293714272e-07, 1.3799528555199868e-07, 1.4488311644845396e-07, 1.805378161974351e-07, 1.0602553103539473e-07, 1.1704902740546646e-07, 1.455136279959018e-07, 1.0415470563233654e-07, 8.118706813736941e-08, 1.0686661915946158e-07]\n",
    "#L2coef =  [4.1569075388032577e-08, 4.6204955342597065e-08, 5.0166375471648715e-08, 4.514664854811448e-08, 3.48871620405534e-08, 3.5571940782784185e-08, 3.0754665958242645e-08, 2.598391044660942e-08, 3.0138753215016455e-08, 8.403434058546602e-08]\n",
    "##Cathy mic recorded L1≌65dB L2≌55dB_white noise 75 dBA\n",
    "L1coef =  [1.3712906897447548e-07, 1.4778281966076527e-07, 1.5511120141885243e-07, 1.929324398164241e-07, 1.1384170913035403e-07, 1.2813999130223785e-07, 1.5703645104316956e-07, 1.1343933143296467e-07, 9.219567950268008e-08, 1.2428085214028747e-07]\n",
    "L2coef =  [4.436217934992272e-08, 4.938246082704739e-08, 5.393507966884611e-08, 4.829245951487835e-08, 3.811419740338272e-08, 3.881888906307747e-08, 3.367530645683877e-08, 2.9377108087614054e-08, 3.62550380115499e-08, 6.281212726104669e-08]\n",
    "\n",
    "scale_v1 = np.ones(len(f1)) * L1coef\n",
    "scale_v2 = np.ones(len(f2)) * L2coef\n",
    "v1 = (2 ** 18) * scale_v1\n",
    "v2 = (2 ** 18) * scale_v2\n",
    "\n",
    "for i in range(len(f1)):\n",
    "    file_l = '/DPOAE_Data/{}_DPOAE_data/{}_left_f{}.wav'.format(name, name, str(i + 1))\n",
    "    signal_l, fs = sf.read(file_l) #Mic[ER10C_Cathy test-in, ER10C_CMU ref-out, ER10C_AHGLAB ref-in]\n",
    "    \n",
    "    Cathy_signal_l = signal_l[:, 0] #ER10C_Cathy test-in\n",
    "    CMU_signal_l = signal_l[:, 1] #ER10C_CMU ref-out\n",
    "    AHGLAB_signal_l = signal_l[:, 2] #ER10C_AHGLAB ref-in\n",
    "    signal_L1 = v1[i] * (np.sin(2*np.pi*np.arange(fs*interval[i])*f1[i]/fs)).astype(np.float32) #Computer input pure tone L1_65dB\n",
    "    signal_L2 = v2[i] * (np.sin(2*np.pi*np.arange(fs*interval[i])*f2[i]/fs)).astype(np.float32) #Computer input pure tone L2_55dB\n",
    "\n",
    "    total_Cathy_signal_l.append(Cathy_signal_l[int(latency * fs) : int((latency + interval[i]) * fs)] * Cathay_amp2pa)\n",
    "    total_CMU_signal_l.append(CMU_signal_l[int(latency * fs) : int((latency + interval[i]) * fs)] * CMU_amp2pa)\n",
    "    total_AHGLAB_signal_l.append(AHGLAB_signal_l[int(latency * fs) : int((latency + interval[i]) * fs)] * AHGLAB_amp2pa)\n",
    "    total_signal_L1.append(signal_L1[20:])\n",
    "    total_signal_L2.append(signal_L2[20:])"
   ]
  },
  {
   "cell_type": "code",
   "execution_count": 7,
   "metadata": {},
   "outputs": [
    {
     "name": "stdout",
     "output_type": "stream",
     "text": [
      "type(total_Cathy_signal_l) = <class 'list'>\n",
      "type(total_Cathy_signal_l[0]) = <class 'numpy.ndarray'>\n",
      "len(total_Cathy_signal_l) = 10\n",
      "len(total_Cathy_signal_l[0]) = 479980\n",
      "len(total_signal_L1) = 10\n",
      "len(total_signal_L1[0]) = 479980\n"
     ]
    }
   ],
   "source": [
    "print(\"type(total_Cathy_signal_l) =\",type(total_Cathy_signal_l))\n",
    "print(\"type(total_Cathy_signal_l[0]) =\",type(total_Cathy_signal_l[0]))\n",
    "print(\"len(total_Cathy_signal_l) =\",len(total_Cathy_signal_l))\n",
    "print(\"len(total_Cathy_signal_l[0]) =\",len(total_Cathy_signal_l[0]))\n",
    "print(\"len(total_signal_L1) =\",len(total_signal_L1))\n",
    "print(\"len(total_signal_L1[0]) =\",len(total_signal_L1[0]))"
   ]
  },
  {
   "cell_type": "code",
   "execution_count": 8,
   "metadata": {},
   "outputs": [
    {
     "name": "stdout",
     "output_type": "stream",
     "text": [
      "\n",
      "origin_l1_l =  [64.20130538070534, 64.11324318346627, 64.07223335959705, 64.15628080747581, 63.4720324665459, 62.874515440408615, 62.368694129037884, 61.81628146647682, 61.66501522325395, 60.336341893557055]\n",
      "origin_l2_l =  [53.938671079419464, 53.735484574924186, 53.7795863469304, 53.75491432154547, 52.918035529973274, 52.06019499392317, 52.50011907228807, 51.71511551574433, 50.5908096787942, 58.29593778748854]\n",
      "origin_l3_l =  [7.531829667102997, 9.625219156093692, 12.109235235726857, 8.682084200433806, -2.7302628234296265, 4.847100876692139, 7.562633736234119, 11.401369532461516, 4.473925279228752, 11.246725757034866]\n",
      "\n",
      "RA_origin_l1_l =  [64.87934555892112, 65.70116396996063, 65.96245495384291, 68.00213944980615, 63.46546094323857, 64.45628963573333, 66.04415446165163, 63.45711798155672, 61.61334843574063, 64.24487871738131]\n",
      "RA_origin_l2_l =  [55.232515976103315, 55.965503948539705, 56.90676542205528, 55.90679200442173, 53.97221050923748, 54.05798193608805, 52.886189534478895, 51.59974723844589, 53.51824894834335, 58.05643690494417]\n",
      "RA_origin_l3_l =  [23.347013220873947, 16.38573036564678, 16.052123811600936, 16.049966023923346, 12.906520652435589, 21.412964581589463, 16.84740820646057, 23.81531079450653, 22.40628859003384, 12.132602550458472]\n"
     ]
    }
   ],
   "source": [
    "#get quiet_l1l2l3 & RA_quiet_l3_l\n",
    "origin_l1_l = []\n",
    "origin_l2_l = []\n",
    "origin_l3_l = []\n",
    "RA_origin_l1_l = []\n",
    "RA_origin_l2_l = []\n",
    "RA_origin_l3_l = []\n",
    "\n",
    "for i in range(len(f1)):\n",
    "    NFFT = len(total_Cathy_signal_l[i])\n",
    "    df = fs / NFFT\n",
    "    f_axis = np.arange(int(NFFT / 2)) * df\n",
    "    \n",
    "    Cathy_signal_l = total_Cathy_signal_l[i]\n",
    "    CMU_signal_l = total_CMU_signal_l[i]\n",
    "    AHGLAB_signal_l = total_AHGLAB_signal_l[i]\n",
    "\n",
    "    Cathy_spectrum_l = 20 * np.log10(np.abs(np.fft.fft(Cathy_signal_l, NFFT) / int(NFFT / 2)))[:int(NFFT / 2)] + 94\n",
    "    \n",
    "    #Cathy after recursive averaging(Step123), plot spectrum\n",
    "    RA_axis, RA_nfft, RA_Cathy_signal_l = Step123(0, Cathy_signal_l.real, fs, i)\n",
    "    RA_Cathy_signal_l_spectrum_l = 10 * np.log10(np.abs(RA_Cathy_signal_l))[:int(RA_nfft / 2)] + 94\n",
    "\n",
    "    #L1 L2 L3 collection\n",
    "    origin_l1_l.append(Cathy_spectrum_l[int(round(f1[i] / df))])\n",
    "    origin_l2_l.append(Cathy_spectrum_l[int(round(f2[i] / df))])\n",
    "    origin_l3_l.append(Cathy_spectrum_l[int(round(f3[i] / df))])       #quiet_l3_l\n",
    "    RA_origin_l1_l.append(RA_Cathy_signal_l_spectrum_l[int(round(f1[i] / (fs/RA_nfft)))])\n",
    "    RA_origin_l2_l.append(RA_Cathy_signal_l_spectrum_l[int(round(f2[i] / (fs/RA_nfft)))])\n",
    "    RA_origin_l3_l.append(RA_Cathy_signal_l_spectrum_l[int(round(f3[i] / (fs/RA_nfft)))])       #RA_quiet_l3_l\n",
    "\n",
    "print(\"\\norigin_l1_l = \", origin_l1_l)\n",
    "print(\"origin_l2_l = \", origin_l2_l)\n",
    "print(\"origin_l3_l = \", origin_l3_l)\n",
    "print(\"\\nRA_origin_l1_l = \", RA_origin_l1_l)\n",
    "print(\"RA_origin_l2_l = \", RA_origin_l2_l)\n",
    "print(\"RA_origin_l3_l = \", RA_origin_l3_l)"
   ]
  },
  {
   "cell_type": "code",
   "execution_count": 9,
   "metadata": {},
   "outputs": [
    {
     "name": "stdout",
     "output_type": "stream",
     "text": [
      "\n",
      "--------------  f1=600  --------------\n",
      "len(Cathy_spectrum_l)= 239990\n",
      "\n",
      "PSDv2 frameNumber= 623\n",
      "len(G)= 3072\n",
      "num_PSDgain_negative= 1185\n",
      "\n",
      "signal_PSD_l3_l= 19.06732660318262\n",
      "abar_PSD= 1.8225481521494883e-08\n",
      "std_noi_PSD= 1.186777047989662e-08\n",
      "noise2sd_PSD= 16.606790113036254\n",
      "after denoise SNR_PSD= 2.4605364901463673\n",
      "\n",
      "signal_Cathy_l3_l= 23.347013220873947\n",
      "abar_Cathy= 4.3060881671377234e-05\n",
      "std_noi_Cathy= 5.337473517258798e-05\n",
      "noise2sd_Cathy= 50.340829177562554\n",
      "Before denoise SNR_Cathy= -26.993815956688607\n",
      "\n",
      "--------------  f1=800  --------------\n",
      "len(Cathy_spectrum_l)= 239990\n",
      "\n",
      "PSDv2 frameNumber= 623\n",
      "len(G)= 3072\n",
      "num_PSDgain_negative= 832\n",
      "\n",
      "signal_PSD_l3_l= -15.34499358350591\n",
      "abar_PSD= 5.14586972410349e-09\n",
      "std_noi_PSD= 3.201602170716853e-09\n",
      "noise2sd_PSD= 11.114587871562634\n",
      "after denoise SNR_PSD= -26.459581455068545\n",
      "\n",
      "signal_Cathy_l3_l= 16.38573036564678\n",
      "abar_Cathy= 2.3905832190869744e-07\n",
      "std_noi_Cathy= 2.0147029486954843e-07\n",
      "noise2sd_Cathy= 27.785038666100093\n",
      "Before denoise SNR_Cathy= -11.399308300453313\n",
      "\n",
      "--------------  f1=900  --------------\n",
      "len(Cathy_spectrum_l)= 239990\n"
     ]
    },
    {
     "name": "stderr",
     "output_type": "stream",
     "text": [
      "<ipython-input-9-7b536a968678>:55: RuntimeWarning: More than 20 figures have been opened. Figures created through the pyplot interface (`matplotlib.pyplot.figure`) are retained until explicitly closed and may consume too much memory. (To control this warning, see the rcParam `figure.max_open_warning`).\n",
      "  plt.figure(figsize=(1800/my_dpi, 900/my_dpi), dpi=my_dpi) #1800x900 pixel image\n",
      "<ipython-input-9-7b536a968678>:73: RuntimeWarning: More than 20 figures have been opened. Figures created through the pyplot interface (`matplotlib.pyplot.figure`) are retained until explicitly closed and may consume too much memory. (To control this warning, see the rcParam `figure.max_open_warning`).\n",
      "  plt.figure(figsize=(1800/my_dpi, 900/my_dpi), dpi=my_dpi) #1800x900 pixel image\n",
      "<ipython-input-9-7b536a968678>:92: RuntimeWarning: More than 20 figures have been opened. Figures created through the pyplot interface (`matplotlib.pyplot.figure`) are retained until explicitly closed and may consume too much memory. (To control this warning, see the rcParam `figure.max_open_warning`).\n",
      "  plt.figure(figsize=(1800/my_dpi, 900/my_dpi), dpi=my_dpi) #1800x900 pixel image\n",
      "<ipython-input-9-7b536a968678>:110: RuntimeWarning: More than 20 figures have been opened. Figures created through the pyplot interface (`matplotlib.pyplot.figure`) are retained until explicitly closed and may consume too much memory. (To control this warning, see the rcParam `figure.max_open_warning`).\n",
      "  plt.figure(figsize=(1800/my_dpi, 900/my_dpi), dpi=my_dpi) #1800x900 pixel image\n",
      "<ipython-input-9-7b536a968678>:129: RuntimeWarning: More than 20 figures have been opened. Figures created through the pyplot interface (`matplotlib.pyplot.figure`) are retained until explicitly closed and may consume too much memory. (To control this warning, see the rcParam `figure.max_open_warning`).\n",
      "  plt.figure(figsize=(1800/my_dpi, 900/my_dpi), dpi=my_dpi) #1800x900 pixel image\n",
      "<ipython-input-9-7b536a968678>:147: RuntimeWarning: More than 20 figures have been opened. Figures created through the pyplot interface (`matplotlib.pyplot.figure`) are retained until explicitly closed and may consume too much memory. (To control this warning, see the rcParam `figure.max_open_warning`).\n",
      "  plt.figure(figsize=(1800/my_dpi, 900/my_dpi), dpi=my_dpi) #1800x900 pixel image\n",
      "<ipython-input-9-7b536a968678>:166: RuntimeWarning: More than 20 figures have been opened. Figures created through the pyplot interface (`matplotlib.pyplot.figure`) are retained until explicitly closed and may consume too much memory. (To control this warning, see the rcParam `figure.max_open_warning`).\n",
      "  plt.figure(figsize=(1800/my_dpi, 900/my_dpi), dpi=my_dpi) #1800x900 pixel image\n",
      "<ipython-input-9-7b536a968678>:184: RuntimeWarning: More than 20 figures have been opened. Figures created through the pyplot interface (`matplotlib.pyplot.figure`) are retained until explicitly closed and may consume too much memory. (To control this warning, see the rcParam `figure.max_open_warning`).\n",
      "  plt.figure(figsize=(1800/my_dpi, 900/my_dpi), dpi=my_dpi) #1800x900 pixel image\n"
     ]
    },
    {
     "name": "stdout",
     "output_type": "stream",
     "text": [
      "\n",
      "PSDv2 frameNumber= 623\n",
      "len(G)= 3072\n",
      "num_PSDgain_negative= 2339\n",
      "\n",
      "signal_PSD_l3_l= 2.9015630275981863\n",
      "abar_PSD= 1.3438272620163717e-11\n",
      "std_noi_PSD= 1.3773593716044853e-12\n",
      "noise2sd_PSD= -14.71656552691752\n",
      "after denoise SNR_PSD= 17.618128554515707\n"
     ]
    },
    {
     "name": "stderr",
     "output_type": "stream",
     "text": [
      "<ipython-input-9-7b536a968678>:218: RuntimeWarning: More than 20 figures have been opened. Figures created through the pyplot interface (`matplotlib.pyplot.figure`) are retained until explicitly closed and may consume too much memory. (To control this warning, see the rcParam `figure.max_open_warning`).\n",
      "  plt.figure(figsize=(1800/my_dpi, 900/my_dpi), dpi=my_dpi) #1800x900 pixel image\n"
     ]
    },
    {
     "name": "stdout",
     "output_type": "stream",
     "text": [
      "\n",
      "signal_Cathy_l3_l= 16.052123811600936\n",
      "abar_Cathy= 5.947972997228414e-08\n",
      "std_noi_Cathy= 2.7590839149838507e-08\n",
      "noise2sd_Cathy= 21.74368988232345\n",
      "Before denoise SNR_Cathy= -5.691566070722516\n"
     ]
    },
    {
     "name": "stderr",
     "output_type": "stream",
     "text": [
      "<ipython-input-9-7b536a968678>:249: RuntimeWarning: More than 20 figures have been opened. Figures created through the pyplot interface (`matplotlib.pyplot.figure`) are retained until explicitly closed and may consume too much memory. (To control this warning, see the rcParam `figure.max_open_warning`).\n",
      "  plt.figure(figsize=(1800/my_dpi, 900/my_dpi), dpi=my_dpi) #1800x900 pixel image\n"
     ]
    },
    {
     "name": "stdout",
     "output_type": "stream",
     "text": [
      "\n",
      "--------------  f1=1200  --------------\n",
      "len(Cathy_spectrum_l)= 191990\n"
     ]
    },
    {
     "name": "stderr",
     "output_type": "stream",
     "text": [
      "<ipython-input-9-7b536a968678>:55: RuntimeWarning: More than 20 figures have been opened. Figures created through the pyplot interface (`matplotlib.pyplot.figure`) are retained until explicitly closed and may consume too much memory. (To control this warning, see the rcParam `figure.max_open_warning`).\n",
      "  plt.figure(figsize=(1800/my_dpi, 900/my_dpi), dpi=my_dpi) #1800x900 pixel image\n",
      "<ipython-input-9-7b536a968678>:73: RuntimeWarning: More than 20 figures have been opened. Figures created through the pyplot interface (`matplotlib.pyplot.figure`) are retained until explicitly closed and may consume too much memory. (To control this warning, see the rcParam `figure.max_open_warning`).\n",
      "  plt.figure(figsize=(1800/my_dpi, 900/my_dpi), dpi=my_dpi) #1800x900 pixel image\n",
      "<ipython-input-9-7b536a968678>:92: RuntimeWarning: More than 20 figures have been opened. Figures created through the pyplot interface (`matplotlib.pyplot.figure`) are retained until explicitly closed and may consume too much memory. (To control this warning, see the rcParam `figure.max_open_warning`).\n",
      "  plt.figure(figsize=(1800/my_dpi, 900/my_dpi), dpi=my_dpi) #1800x900 pixel image\n",
      "<ipython-input-9-7b536a968678>:110: RuntimeWarning: More than 20 figures have been opened. Figures created through the pyplot interface (`matplotlib.pyplot.figure`) are retained until explicitly closed and may consume too much memory. (To control this warning, see the rcParam `figure.max_open_warning`).\n",
      "  plt.figure(figsize=(1800/my_dpi, 900/my_dpi), dpi=my_dpi) #1800x900 pixel image\n",
      "<ipython-input-9-7b536a968678>:129: RuntimeWarning: More than 20 figures have been opened. Figures created through the pyplot interface (`matplotlib.pyplot.figure`) are retained until explicitly closed and may consume too much memory. (To control this warning, see the rcParam `figure.max_open_warning`).\n",
      "  plt.figure(figsize=(1800/my_dpi, 900/my_dpi), dpi=my_dpi) #1800x900 pixel image\n",
      "<ipython-input-9-7b536a968678>:147: RuntimeWarning: More than 20 figures have been opened. Figures created through the pyplot interface (`matplotlib.pyplot.figure`) are retained until explicitly closed and may consume too much memory. (To control this warning, see the rcParam `figure.max_open_warning`).\n",
      "  plt.figure(figsize=(1800/my_dpi, 900/my_dpi), dpi=my_dpi) #1800x900 pixel image\n",
      "<ipython-input-9-7b536a968678>:166: RuntimeWarning: More than 20 figures have been opened. Figures created through the pyplot interface (`matplotlib.pyplot.figure`) are retained until explicitly closed and may consume too much memory. (To control this warning, see the rcParam `figure.max_open_warning`).\n",
      "  plt.figure(figsize=(1800/my_dpi, 900/my_dpi), dpi=my_dpi) #1800x900 pixel image\n",
      "<ipython-input-9-7b536a968678>:184: RuntimeWarning: More than 20 figures have been opened. Figures created through the pyplot interface (`matplotlib.pyplot.figure`) are retained until explicitly closed and may consume too much memory. (To control this warning, see the rcParam `figure.max_open_warning`).\n",
      "  plt.figure(figsize=(1800/my_dpi, 900/my_dpi), dpi=my_dpi) #1800x900 pixel image\n"
     ]
    },
    {
     "name": "stdout",
     "output_type": "stream",
     "text": [
      "\n",
      "PSDv2 frameNumber= 498\n",
      "len(G)= 3072\n",
      "num_PSDgain_negative= 1338\n",
      "\n",
      "signal_PSD_l3_l= 13.587275941237237\n",
      "abar_PSD= 5.31522273885294e-09\n",
      "std_noi_PSD= 2.949907615887382e-09\n",
      "noise2sd_PSD= 11.255214687140366\n",
      "after denoise SNR_PSD= 2.332061254096871\n"
     ]
    },
    {
     "name": "stderr",
     "output_type": "stream",
     "text": [
      "<ipython-input-9-7b536a968678>:218: RuntimeWarning: More than 20 figures have been opened. Figures created through the pyplot interface (`matplotlib.pyplot.figure`) are retained until explicitly closed and may consume too much memory. (To control this warning, see the rcParam `figure.max_open_warning`).\n",
      "  plt.figure(figsize=(1800/my_dpi, 900/my_dpi), dpi=my_dpi) #1800x900 pixel image\n"
     ]
    },
    {
     "name": "stdout",
     "output_type": "stream",
     "text": [
      "\n",
      "signal_Cathy_l3_l= 16.049966023923346\n",
      "abar_Cathy= 2.1480382340700905e-08\n",
      "std_noi_Cathy= 5.376186479420132e-09\n",
      "noise2sd_Cathy= 17.320420073337942\n",
      "Before denoise SNR_Cathy= -1.270454049414596\n"
     ]
    },
    {
     "name": "stderr",
     "output_type": "stream",
     "text": [
      "<ipython-input-9-7b536a968678>:249: RuntimeWarning: More than 20 figures have been opened. Figures created through the pyplot interface (`matplotlib.pyplot.figure`) are retained until explicitly closed and may consume too much memory. (To control this warning, see the rcParam `figure.max_open_warning`).\n",
      "  plt.figure(figsize=(1800/my_dpi, 900/my_dpi), dpi=my_dpi) #1800x900 pixel image\n"
     ]
    },
    {
     "name": "stdout",
     "output_type": "stream",
     "text": [
      "\n",
      "--------------  f1=2500  --------------\n",
      "len(Cathy_spectrum_l)= 71990\n"
     ]
    },
    {
     "name": "stderr",
     "output_type": "stream",
     "text": [
      "<ipython-input-9-7b536a968678>:55: RuntimeWarning: More than 20 figures have been opened. Figures created through the pyplot interface (`matplotlib.pyplot.figure`) are retained until explicitly closed and may consume too much memory. (To control this warning, see the rcParam `figure.max_open_warning`).\n",
      "  plt.figure(figsize=(1800/my_dpi, 900/my_dpi), dpi=my_dpi) #1800x900 pixel image\n",
      "<ipython-input-9-7b536a968678>:73: RuntimeWarning: More than 20 figures have been opened. Figures created through the pyplot interface (`matplotlib.pyplot.figure`) are retained until explicitly closed and may consume too much memory. (To control this warning, see the rcParam `figure.max_open_warning`).\n",
      "  plt.figure(figsize=(1800/my_dpi, 900/my_dpi), dpi=my_dpi) #1800x900 pixel image\n",
      "<ipython-input-9-7b536a968678>:92: RuntimeWarning: More than 20 figures have been opened. Figures created through the pyplot interface (`matplotlib.pyplot.figure`) are retained until explicitly closed and may consume too much memory. (To control this warning, see the rcParam `figure.max_open_warning`).\n",
      "  plt.figure(figsize=(1800/my_dpi, 900/my_dpi), dpi=my_dpi) #1800x900 pixel image\n",
      "<ipython-input-9-7b536a968678>:110: RuntimeWarning: More than 20 figures have been opened. Figures created through the pyplot interface (`matplotlib.pyplot.figure`) are retained until explicitly closed and may consume too much memory. (To control this warning, see the rcParam `figure.max_open_warning`).\n",
      "  plt.figure(figsize=(1800/my_dpi, 900/my_dpi), dpi=my_dpi) #1800x900 pixel image\n",
      "<ipython-input-9-7b536a968678>:129: RuntimeWarning: More than 20 figures have been opened. Figures created through the pyplot interface (`matplotlib.pyplot.figure`) are retained until explicitly closed and may consume too much memory. (To control this warning, see the rcParam `figure.max_open_warning`).\n",
      "  plt.figure(figsize=(1800/my_dpi, 900/my_dpi), dpi=my_dpi) #1800x900 pixel image\n",
      "<ipython-input-9-7b536a968678>:147: RuntimeWarning: More than 20 figures have been opened. Figures created through the pyplot interface (`matplotlib.pyplot.figure`) are retained until explicitly closed and may consume too much memory. (To control this warning, see the rcParam `figure.max_open_warning`).\n",
      "  plt.figure(figsize=(1800/my_dpi, 900/my_dpi), dpi=my_dpi) #1800x900 pixel image\n",
      "<ipython-input-9-7b536a968678>:166: RuntimeWarning: More than 20 figures have been opened. Figures created through the pyplot interface (`matplotlib.pyplot.figure`) are retained until explicitly closed and may consume too much memory. (To control this warning, see the rcParam `figure.max_open_warning`).\n",
      "  plt.figure(figsize=(1800/my_dpi, 900/my_dpi), dpi=my_dpi) #1800x900 pixel image\n",
      "<ipython-input-9-7b536a968678>:184: RuntimeWarning: More than 20 figures have been opened. Figures created through the pyplot interface (`matplotlib.pyplot.figure`) are retained until explicitly closed and may consume too much memory. (To control this warning, see the rcParam `figure.max_open_warning`).\n",
      "  plt.figure(figsize=(1800/my_dpi, 900/my_dpi), dpi=my_dpi) #1800x900 pixel image\n"
     ]
    },
    {
     "name": "stdout",
     "output_type": "stream",
     "text": [
      "\n",
      "PSDv2 frameNumber= 186\n",
      "len(G)= 3072\n",
      "num_PSDgain_negative= 1288\n",
      "\n",
      "signal_PSD_l3_l= 0.678691228882542\n",
      "abar_PSD= 6.878167463901934e-12\n",
      "std_noi_PSD= 9.534221674467853e-13\n",
      "noise2sd_PSD= -17.625272545443707\n",
      "after denoise SNR_PSD= 18.30396377432625\n"
     ]
    },
    {
     "name": "stderr",
     "output_type": "stream",
     "text": [
      "<ipython-input-9-7b536a968678>:218: RuntimeWarning: More than 20 figures have been opened. Figures created through the pyplot interface (`matplotlib.pyplot.figure`) are retained until explicitly closed and may consume too much memory. (To control this warning, see the rcParam `figure.max_open_warning`).\n",
      "  plt.figure(figsize=(1800/my_dpi, 900/my_dpi), dpi=my_dpi) #1800x900 pixel image\n"
     ]
    },
    {
     "name": "stdout",
     "output_type": "stream",
     "text": [
      "\n",
      "signal_Cathy_l3_l= 12.906520652435589\n",
      "abar_Cathy= 1.2733308693486765e-08\n",
      "std_noi_Cathy= 1.0304045081317895e-09\n",
      "noise2sd_Cathy= 15.049412678025362\n",
      "Before denoise SNR_Cathy= -2.1428920255897737\n"
     ]
    },
    {
     "name": "stderr",
     "output_type": "stream",
     "text": [
      "<ipython-input-9-7b536a968678>:249: RuntimeWarning: More than 20 figures have been opened. Figures created through the pyplot interface (`matplotlib.pyplot.figure`) are retained until explicitly closed and may consume too much memory. (To control this warning, see the rcParam `figure.max_open_warning`).\n",
      "  plt.figure(figsize=(1800/my_dpi, 900/my_dpi), dpi=my_dpi) #1800x900 pixel image\n"
     ]
    },
    {
     "name": "stdout",
     "output_type": "stream",
     "text": [
      "\n",
      "--------------  f1=3200  --------------\n",
      "len(Cathy_spectrum_l)= 71990\n"
     ]
    },
    {
     "name": "stderr",
     "output_type": "stream",
     "text": [
      "<ipython-input-9-7b536a968678>:55: RuntimeWarning: More than 20 figures have been opened. Figures created through the pyplot interface (`matplotlib.pyplot.figure`) are retained until explicitly closed and may consume too much memory. (To control this warning, see the rcParam `figure.max_open_warning`).\n",
      "  plt.figure(figsize=(1800/my_dpi, 900/my_dpi), dpi=my_dpi) #1800x900 pixel image\n",
      "<ipython-input-9-7b536a968678>:73: RuntimeWarning: More than 20 figures have been opened. Figures created through the pyplot interface (`matplotlib.pyplot.figure`) are retained until explicitly closed and may consume too much memory. (To control this warning, see the rcParam `figure.max_open_warning`).\n",
      "  plt.figure(figsize=(1800/my_dpi, 900/my_dpi), dpi=my_dpi) #1800x900 pixel image\n",
      "<ipython-input-9-7b536a968678>:92: RuntimeWarning: More than 20 figures have been opened. Figures created through the pyplot interface (`matplotlib.pyplot.figure`) are retained until explicitly closed and may consume too much memory. (To control this warning, see the rcParam `figure.max_open_warning`).\n",
      "  plt.figure(figsize=(1800/my_dpi, 900/my_dpi), dpi=my_dpi) #1800x900 pixel image\n",
      "<ipython-input-9-7b536a968678>:110: RuntimeWarning: More than 20 figures have been opened. Figures created through the pyplot interface (`matplotlib.pyplot.figure`) are retained until explicitly closed and may consume too much memory. (To control this warning, see the rcParam `figure.max_open_warning`).\n",
      "  plt.figure(figsize=(1800/my_dpi, 900/my_dpi), dpi=my_dpi) #1800x900 pixel image\n",
      "<ipython-input-9-7b536a968678>:129: RuntimeWarning: More than 20 figures have been opened. Figures created through the pyplot interface (`matplotlib.pyplot.figure`) are retained until explicitly closed and may consume too much memory. (To control this warning, see the rcParam `figure.max_open_warning`).\n",
      "  plt.figure(figsize=(1800/my_dpi, 900/my_dpi), dpi=my_dpi) #1800x900 pixel image\n",
      "<ipython-input-9-7b536a968678>:147: RuntimeWarning: More than 20 figures have been opened. Figures created through the pyplot interface (`matplotlib.pyplot.figure`) are retained until explicitly closed and may consume too much memory. (To control this warning, see the rcParam `figure.max_open_warning`).\n",
      "  plt.figure(figsize=(1800/my_dpi, 900/my_dpi), dpi=my_dpi) #1800x900 pixel image\n",
      "<ipython-input-9-7b536a968678>:166: RuntimeWarning: More than 20 figures have been opened. Figures created through the pyplot interface (`matplotlib.pyplot.figure`) are retained until explicitly closed and may consume too much memory. (To control this warning, see the rcParam `figure.max_open_warning`).\n",
      "  plt.figure(figsize=(1800/my_dpi, 900/my_dpi), dpi=my_dpi) #1800x900 pixel image\n",
      "<ipython-input-9-7b536a968678>:184: RuntimeWarning: More than 20 figures have been opened. Figures created through the pyplot interface (`matplotlib.pyplot.figure`) are retained until explicitly closed and may consume too much memory. (To control this warning, see the rcParam `figure.max_open_warning`).\n",
      "  plt.figure(figsize=(1800/my_dpi, 900/my_dpi), dpi=my_dpi) #1800x900 pixel image\n"
     ]
    },
    {
     "name": "stdout",
     "output_type": "stream",
     "text": [
      "\n",
      "PSDv2 frameNumber= 186\n",
      "len(G)= 3072\n",
      "num_PSDgain_negative= 580\n",
      "\n",
      "signal_PSD_l3_l= 21.114461006803367\n",
      "abar_PSD= 3.552372220762594e-08\n",
      "std_noi_PSD= 9.903602069540706e-09\n",
      "noise2sd_PSD= 19.505184652579857\n",
      "after denoise SNR_PSD= 1.6092763542235105\n"
     ]
    },
    {
     "name": "stderr",
     "output_type": "stream",
     "text": [
      "<ipython-input-9-7b536a968678>:218: RuntimeWarning: More than 20 figures have been opened. Figures created through the pyplot interface (`matplotlib.pyplot.figure`) are retained until explicitly closed and may consume too much memory. (To control this warning, see the rcParam `figure.max_open_warning`).\n",
      "  plt.figure(figsize=(1800/my_dpi, 900/my_dpi), dpi=my_dpi) #1800x900 pixel image\n"
     ]
    },
    {
     "name": "stdout",
     "output_type": "stream",
     "text": [
      "\n",
      "signal_Cathy_l3_l= 21.412964581589463\n",
      "abar_Cathy= 7.247078057843931e-08\n",
      "std_noi_Cathy= 1.6405747680177744e-08\n",
      "noise2sd_Cathy= 22.60162939103337\n",
      "Before denoise SNR_Cathy= -1.1886648094439067\n"
     ]
    },
    {
     "name": "stderr",
     "output_type": "stream",
     "text": [
      "<ipython-input-9-7b536a968678>:249: RuntimeWarning: More than 20 figures have been opened. Figures created through the pyplot interface (`matplotlib.pyplot.figure`) are retained until explicitly closed and may consume too much memory. (To control this warning, see the rcParam `figure.max_open_warning`).\n",
      "  plt.figure(figsize=(1800/my_dpi, 900/my_dpi), dpi=my_dpi) #1800x900 pixel image\n"
     ]
    },
    {
     "name": "stdout",
     "output_type": "stream",
     "text": [
      "\n",
      "--------------  f1=3600  --------------\n",
      "len(Cathy_spectrum_l)= 47990\n"
     ]
    },
    {
     "name": "stderr",
     "output_type": "stream",
     "text": [
      "<ipython-input-9-7b536a968678>:55: RuntimeWarning: More than 20 figures have been opened. Figures created through the pyplot interface (`matplotlib.pyplot.figure`) are retained until explicitly closed and may consume too much memory. (To control this warning, see the rcParam `figure.max_open_warning`).\n",
      "  plt.figure(figsize=(1800/my_dpi, 900/my_dpi), dpi=my_dpi) #1800x900 pixel image\n",
      "<ipython-input-9-7b536a968678>:73: RuntimeWarning: More than 20 figures have been opened. Figures created through the pyplot interface (`matplotlib.pyplot.figure`) are retained until explicitly closed and may consume too much memory. (To control this warning, see the rcParam `figure.max_open_warning`).\n",
      "  plt.figure(figsize=(1800/my_dpi, 900/my_dpi), dpi=my_dpi) #1800x900 pixel image\n",
      "<ipython-input-9-7b536a968678>:92: RuntimeWarning: More than 20 figures have been opened. Figures created through the pyplot interface (`matplotlib.pyplot.figure`) are retained until explicitly closed and may consume too much memory. (To control this warning, see the rcParam `figure.max_open_warning`).\n",
      "  plt.figure(figsize=(1800/my_dpi, 900/my_dpi), dpi=my_dpi) #1800x900 pixel image\n",
      "<ipython-input-9-7b536a968678>:110: RuntimeWarning: More than 20 figures have been opened. Figures created through the pyplot interface (`matplotlib.pyplot.figure`) are retained until explicitly closed and may consume too much memory. (To control this warning, see the rcParam `figure.max_open_warning`).\n",
      "  plt.figure(figsize=(1800/my_dpi, 900/my_dpi), dpi=my_dpi) #1800x900 pixel image\n",
      "<ipython-input-9-7b536a968678>:129: RuntimeWarning: More than 20 figures have been opened. Figures created through the pyplot interface (`matplotlib.pyplot.figure`) are retained until explicitly closed and may consume too much memory. (To control this warning, see the rcParam `figure.max_open_warning`).\n",
      "  plt.figure(figsize=(1800/my_dpi, 900/my_dpi), dpi=my_dpi) #1800x900 pixel image\n",
      "<ipython-input-9-7b536a968678>:147: RuntimeWarning: More than 20 figures have been opened. Figures created through the pyplot interface (`matplotlib.pyplot.figure`) are retained until explicitly closed and may consume too much memory. (To control this warning, see the rcParam `figure.max_open_warning`).\n",
      "  plt.figure(figsize=(1800/my_dpi, 900/my_dpi), dpi=my_dpi) #1800x900 pixel image\n",
      "<ipython-input-9-7b536a968678>:166: RuntimeWarning: More than 20 figures have been opened. Figures created through the pyplot interface (`matplotlib.pyplot.figure`) are retained until explicitly closed and may consume too much memory. (To control this warning, see the rcParam `figure.max_open_warning`).\n",
      "  plt.figure(figsize=(1800/my_dpi, 900/my_dpi), dpi=my_dpi) #1800x900 pixel image\n",
      "<ipython-input-9-7b536a968678>:184: RuntimeWarning: More than 20 figures have been opened. Figures created through the pyplot interface (`matplotlib.pyplot.figure`) are retained until explicitly closed and may consume too much memory. (To control this warning, see the rcParam `figure.max_open_warning`).\n",
      "  plt.figure(figsize=(1800/my_dpi, 900/my_dpi), dpi=my_dpi) #1800x900 pixel image\n"
     ]
    },
    {
     "name": "stdout",
     "output_type": "stream",
     "text": [
      "\n",
      "PSDv2 frameNumber= 123\n",
      "len(G)= 3072\n",
      "num_PSDgain_negative= 1327\n",
      "\n",
      "signal_PSD_l3_l= 7.657336943440328\n",
      "abar_PSD= 4.586081415064558e-09\n",
      "std_noi_PSD= 2.7138893880104e-09\n",
      "noise2sd_PSD= 10.61441760337101\n",
      "after denoise SNR_PSD= -2.957080659930682\n"
     ]
    },
    {
     "name": "stderr",
     "output_type": "stream",
     "text": [
      "<ipython-input-9-7b536a968678>:218: RuntimeWarning: More than 20 figures have been opened. Figures created through the pyplot interface (`matplotlib.pyplot.figure`) are retained until explicitly closed and may consume too much memory. (To control this warning, see the rcParam `figure.max_open_warning`).\n",
      "  plt.figure(figsize=(1800/my_dpi, 900/my_dpi), dpi=my_dpi) #1800x900 pixel image\n"
     ]
    },
    {
     "name": "stdout",
     "output_type": "stream",
     "text": [
      "\n",
      "signal_Cathy_l3_l= 16.84740820646057\n",
      "abar_Cathy= 5.7231840280095334e-08\n",
      "std_noi_Cathy= 8.629593566731004e-09\n",
      "noise2sd_Cathy= 21.576377107981486\n",
      "Before denoise SNR_Cathy= -4.728968901520915\n"
     ]
    },
    {
     "name": "stderr",
     "output_type": "stream",
     "text": [
      "<ipython-input-9-7b536a968678>:249: RuntimeWarning: More than 20 figures have been opened. Figures created through the pyplot interface (`matplotlib.pyplot.figure`) are retained until explicitly closed and may consume too much memory. (To control this warning, see the rcParam `figure.max_open_warning`).\n",
      "  plt.figure(figsize=(1800/my_dpi, 900/my_dpi), dpi=my_dpi) #1800x900 pixel image\n"
     ]
    },
    {
     "name": "stdout",
     "output_type": "stream",
     "text": [
      "\n",
      "--------------  f1=4000  --------------\n",
      "len(Cathy_spectrum_l)= 47990\n"
     ]
    },
    {
     "name": "stderr",
     "output_type": "stream",
     "text": [
      "<ipython-input-9-7b536a968678>:55: RuntimeWarning: More than 20 figures have been opened. Figures created through the pyplot interface (`matplotlib.pyplot.figure`) are retained until explicitly closed and may consume too much memory. (To control this warning, see the rcParam `figure.max_open_warning`).\n",
      "  plt.figure(figsize=(1800/my_dpi, 900/my_dpi), dpi=my_dpi) #1800x900 pixel image\n",
      "<ipython-input-9-7b536a968678>:73: RuntimeWarning: More than 20 figures have been opened. Figures created through the pyplot interface (`matplotlib.pyplot.figure`) are retained until explicitly closed and may consume too much memory. (To control this warning, see the rcParam `figure.max_open_warning`).\n",
      "  plt.figure(figsize=(1800/my_dpi, 900/my_dpi), dpi=my_dpi) #1800x900 pixel image\n",
      "<ipython-input-9-7b536a968678>:92: RuntimeWarning: More than 20 figures have been opened. Figures created through the pyplot interface (`matplotlib.pyplot.figure`) are retained until explicitly closed and may consume too much memory. (To control this warning, see the rcParam `figure.max_open_warning`).\n",
      "  plt.figure(figsize=(1800/my_dpi, 900/my_dpi), dpi=my_dpi) #1800x900 pixel image\n",
      "<ipython-input-9-7b536a968678>:110: RuntimeWarning: More than 20 figures have been opened. Figures created through the pyplot interface (`matplotlib.pyplot.figure`) are retained until explicitly closed and may consume too much memory. (To control this warning, see the rcParam `figure.max_open_warning`).\n",
      "  plt.figure(figsize=(1800/my_dpi, 900/my_dpi), dpi=my_dpi) #1800x900 pixel image\n",
      "<ipython-input-9-7b536a968678>:129: RuntimeWarning: More than 20 figures have been opened. Figures created through the pyplot interface (`matplotlib.pyplot.figure`) are retained until explicitly closed and may consume too much memory. (To control this warning, see the rcParam `figure.max_open_warning`).\n",
      "  plt.figure(figsize=(1800/my_dpi, 900/my_dpi), dpi=my_dpi) #1800x900 pixel image\n",
      "<ipython-input-9-7b536a968678>:147: RuntimeWarning: More than 20 figures have been opened. Figures created through the pyplot interface (`matplotlib.pyplot.figure`) are retained until explicitly closed and may consume too much memory. (To control this warning, see the rcParam `figure.max_open_warning`).\n",
      "  plt.figure(figsize=(1800/my_dpi, 900/my_dpi), dpi=my_dpi) #1800x900 pixel image\n",
      "<ipython-input-9-7b536a968678>:166: RuntimeWarning: More than 20 figures have been opened. Figures created through the pyplot interface (`matplotlib.pyplot.figure`) are retained until explicitly closed and may consume too much memory. (To control this warning, see the rcParam `figure.max_open_warning`).\n",
      "  plt.figure(figsize=(1800/my_dpi, 900/my_dpi), dpi=my_dpi) #1800x900 pixel image\n",
      "<ipython-input-9-7b536a968678>:184: RuntimeWarning: More than 20 figures have been opened. Figures created through the pyplot interface (`matplotlib.pyplot.figure`) are retained until explicitly closed and may consume too much memory. (To control this warning, see the rcParam `figure.max_open_warning`).\n",
      "  plt.figure(figsize=(1800/my_dpi, 900/my_dpi), dpi=my_dpi) #1800x900 pixel image\n"
     ]
    },
    {
     "name": "stdout",
     "output_type": "stream",
     "text": [
      "\n",
      "PSDv2 frameNumber= 123\n",
      "len(G)= 3072\n",
      "num_PSDgain_negative= 446\n",
      "\n",
      "signal_PSD_l3_l= 21.234138537530214\n",
      "abar_PSD= 6.195643742726715e-08\n",
      "std_noi_PSD= 2.8392248117758464e-08\n",
      "noise2sd_PSD= 21.920864373285895\n",
      "after denoise SNR_PSD= -0.6867258357556807\n"
     ]
    },
    {
     "name": "stderr",
     "output_type": "stream",
     "text": [
      "<ipython-input-9-7b536a968678>:218: RuntimeWarning: More than 20 figures have been opened. Figures created through the pyplot interface (`matplotlib.pyplot.figure`) are retained until explicitly closed and may consume too much memory. (To control this warning, see the rcParam `figure.max_open_warning`).\n",
      "  plt.figure(figsize=(1800/my_dpi, 900/my_dpi), dpi=my_dpi) #1800x900 pixel image\n"
     ]
    },
    {
     "name": "stdout",
     "output_type": "stream",
     "text": [
      "\n",
      "signal_Cathy_l3_l= 23.81531079450653\n",
      "abar_Cathy= 1.7002744870205275e-07\n",
      "std_noi_Cathy= 3.9696158197407935e-08\n",
      "noise2sd_Cathy= 26.305190381874212\n",
      "Before denoise SNR_Cathy= -2.489879587367682\n"
     ]
    },
    {
     "name": "stderr",
     "output_type": "stream",
     "text": [
      "<ipython-input-9-7b536a968678>:249: RuntimeWarning: More than 20 figures have been opened. Figures created through the pyplot interface (`matplotlib.pyplot.figure`) are retained until explicitly closed and may consume too much memory. (To control this warning, see the rcParam `figure.max_open_warning`).\n",
      "  plt.figure(figsize=(1800/my_dpi, 900/my_dpi), dpi=my_dpi) #1800x900 pixel image\n"
     ]
    },
    {
     "name": "stdout",
     "output_type": "stream",
     "text": [
      "\n",
      "--------------  f1=4800  --------------\n",
      "len(Cathy_spectrum_l)= 47990\n"
     ]
    },
    {
     "name": "stderr",
     "output_type": "stream",
     "text": [
      "<ipython-input-9-7b536a968678>:55: RuntimeWarning: More than 20 figures have been opened. Figures created through the pyplot interface (`matplotlib.pyplot.figure`) are retained until explicitly closed and may consume too much memory. (To control this warning, see the rcParam `figure.max_open_warning`).\n",
      "  plt.figure(figsize=(1800/my_dpi, 900/my_dpi), dpi=my_dpi) #1800x900 pixel image\n",
      "<ipython-input-9-7b536a968678>:73: RuntimeWarning: More than 20 figures have been opened. Figures created through the pyplot interface (`matplotlib.pyplot.figure`) are retained until explicitly closed and may consume too much memory. (To control this warning, see the rcParam `figure.max_open_warning`).\n",
      "  plt.figure(figsize=(1800/my_dpi, 900/my_dpi), dpi=my_dpi) #1800x900 pixel image\n",
      "<ipython-input-9-7b536a968678>:92: RuntimeWarning: More than 20 figures have been opened. Figures created through the pyplot interface (`matplotlib.pyplot.figure`) are retained until explicitly closed and may consume too much memory. (To control this warning, see the rcParam `figure.max_open_warning`).\n",
      "  plt.figure(figsize=(1800/my_dpi, 900/my_dpi), dpi=my_dpi) #1800x900 pixel image\n",
      "<ipython-input-9-7b536a968678>:110: RuntimeWarning: More than 20 figures have been opened. Figures created through the pyplot interface (`matplotlib.pyplot.figure`) are retained until explicitly closed and may consume too much memory. (To control this warning, see the rcParam `figure.max_open_warning`).\n",
      "  plt.figure(figsize=(1800/my_dpi, 900/my_dpi), dpi=my_dpi) #1800x900 pixel image\n",
      "<ipython-input-9-7b536a968678>:129: RuntimeWarning: More than 20 figures have been opened. Figures created through the pyplot interface (`matplotlib.pyplot.figure`) are retained until explicitly closed and may consume too much memory. (To control this warning, see the rcParam `figure.max_open_warning`).\n",
      "  plt.figure(figsize=(1800/my_dpi, 900/my_dpi), dpi=my_dpi) #1800x900 pixel image\n",
      "<ipython-input-9-7b536a968678>:147: RuntimeWarning: More than 20 figures have been opened. Figures created through the pyplot interface (`matplotlib.pyplot.figure`) are retained until explicitly closed and may consume too much memory. (To control this warning, see the rcParam `figure.max_open_warning`).\n",
      "  plt.figure(figsize=(1800/my_dpi, 900/my_dpi), dpi=my_dpi) #1800x900 pixel image\n",
      "<ipython-input-9-7b536a968678>:166: RuntimeWarning: More than 20 figures have been opened. Figures created through the pyplot interface (`matplotlib.pyplot.figure`) are retained until explicitly closed and may consume too much memory. (To control this warning, see the rcParam `figure.max_open_warning`).\n",
      "  plt.figure(figsize=(1800/my_dpi, 900/my_dpi), dpi=my_dpi) #1800x900 pixel image\n",
      "<ipython-input-9-7b536a968678>:184: RuntimeWarning: More than 20 figures have been opened. Figures created through the pyplot interface (`matplotlib.pyplot.figure`) are retained until explicitly closed and may consume too much memory. (To control this warning, see the rcParam `figure.max_open_warning`).\n",
      "  plt.figure(figsize=(1800/my_dpi, 900/my_dpi), dpi=my_dpi) #1800x900 pixel image\n"
     ]
    },
    {
     "name": "stdout",
     "output_type": "stream",
     "text": [
      "\n",
      "PSDv2 frameNumber= 123\n",
      "len(G)= 3072\n",
      "num_PSDgain_negative= 520\n",
      "\n",
      "signal_PSD_l3_l= 22.14277603747216\n",
      "abar_PSD= 4.289704689845377e-08\n",
      "std_noi_PSD= 2.2253013736977948e-08\n",
      "noise2sd_PSD= 20.32427395684718\n",
      "after denoise SNR_PSD= 1.818502080624981\n"
     ]
    },
    {
     "name": "stderr",
     "output_type": "stream",
     "text": [
      "<ipython-input-9-7b536a968678>:218: RuntimeWarning: More than 20 figures have been opened. Figures created through the pyplot interface (`matplotlib.pyplot.figure`) are retained until explicitly closed and may consume too much memory. (To control this warning, see the rcParam `figure.max_open_warning`).\n",
      "  plt.figure(figsize=(1800/my_dpi, 900/my_dpi), dpi=my_dpi) #1800x900 pixel image\n"
     ]
    },
    {
     "name": "stdout",
     "output_type": "stream",
     "text": [
      "\n",
      "signal_Cathy_l3_l= 22.40628859003384\n",
      "abar_Cathy= 1.419180407780252e-07\n",
      "std_noi_Cathy= 1.4469989102654035e-08\n",
      "noise2sd_Cathy= 25.520376069608346\n",
      "Before denoise SNR_Cathy= -3.1140874795745077\n"
     ]
    },
    {
     "name": "stderr",
     "output_type": "stream",
     "text": [
      "<ipython-input-9-7b536a968678>:249: RuntimeWarning: More than 20 figures have been opened. Figures created through the pyplot interface (`matplotlib.pyplot.figure`) are retained until explicitly closed and may consume too much memory. (To control this warning, see the rcParam `figure.max_open_warning`).\n",
      "  plt.figure(figsize=(1800/my_dpi, 900/my_dpi), dpi=my_dpi) #1800x900 pixel image\n"
     ]
    },
    {
     "name": "stdout",
     "output_type": "stream",
     "text": [
      "\n",
      "--------------  f1=6000  --------------\n",
      "len(Cathy_spectrum_l)= 47990\n"
     ]
    },
    {
     "name": "stderr",
     "output_type": "stream",
     "text": [
      "<ipython-input-9-7b536a968678>:55: RuntimeWarning: More than 20 figures have been opened. Figures created through the pyplot interface (`matplotlib.pyplot.figure`) are retained until explicitly closed and may consume too much memory. (To control this warning, see the rcParam `figure.max_open_warning`).\n",
      "  plt.figure(figsize=(1800/my_dpi, 900/my_dpi), dpi=my_dpi) #1800x900 pixel image\n",
      "<ipython-input-9-7b536a968678>:73: RuntimeWarning: More than 20 figures have been opened. Figures created through the pyplot interface (`matplotlib.pyplot.figure`) are retained until explicitly closed and may consume too much memory. (To control this warning, see the rcParam `figure.max_open_warning`).\n",
      "  plt.figure(figsize=(1800/my_dpi, 900/my_dpi), dpi=my_dpi) #1800x900 pixel image\n",
      "<ipython-input-9-7b536a968678>:92: RuntimeWarning: More than 20 figures have been opened. Figures created through the pyplot interface (`matplotlib.pyplot.figure`) are retained until explicitly closed and may consume too much memory. (To control this warning, see the rcParam `figure.max_open_warning`).\n",
      "  plt.figure(figsize=(1800/my_dpi, 900/my_dpi), dpi=my_dpi) #1800x900 pixel image\n",
      "<ipython-input-9-7b536a968678>:110: RuntimeWarning: More than 20 figures have been opened. Figures created through the pyplot interface (`matplotlib.pyplot.figure`) are retained until explicitly closed and may consume too much memory. (To control this warning, see the rcParam `figure.max_open_warning`).\n",
      "  plt.figure(figsize=(1800/my_dpi, 900/my_dpi), dpi=my_dpi) #1800x900 pixel image\n",
      "<ipython-input-9-7b536a968678>:129: RuntimeWarning: More than 20 figures have been opened. Figures created through the pyplot interface (`matplotlib.pyplot.figure`) are retained until explicitly closed and may consume too much memory. (To control this warning, see the rcParam `figure.max_open_warning`).\n",
      "  plt.figure(figsize=(1800/my_dpi, 900/my_dpi), dpi=my_dpi) #1800x900 pixel image\n",
      "<ipython-input-9-7b536a968678>:147: RuntimeWarning: More than 20 figures have been opened. Figures created through the pyplot interface (`matplotlib.pyplot.figure`) are retained until explicitly closed and may consume too much memory. (To control this warning, see the rcParam `figure.max_open_warning`).\n",
      "  plt.figure(figsize=(1800/my_dpi, 900/my_dpi), dpi=my_dpi) #1800x900 pixel image\n",
      "<ipython-input-9-7b536a968678>:166: RuntimeWarning: More than 20 figures have been opened. Figures created through the pyplot interface (`matplotlib.pyplot.figure`) are retained until explicitly closed and may consume too much memory. (To control this warning, see the rcParam `figure.max_open_warning`).\n",
      "  plt.figure(figsize=(1800/my_dpi, 900/my_dpi), dpi=my_dpi) #1800x900 pixel image\n",
      "<ipython-input-9-7b536a968678>:184: RuntimeWarning: More than 20 figures have been opened. Figures created through the pyplot interface (`matplotlib.pyplot.figure`) are retained until explicitly closed and may consume too much memory. (To control this warning, see the rcParam `figure.max_open_warning`).\n",
      "  plt.figure(figsize=(1800/my_dpi, 900/my_dpi), dpi=my_dpi) #1800x900 pixel image\n"
     ]
    },
    {
     "name": "stdout",
     "output_type": "stream",
     "text": [
      "\n",
      "PSDv2 frameNumber= 123\n",
      "len(G)= 3072\n",
      "num_PSDgain_negative= 824\n",
      "\n",
      "signal_PSD_l3_l= 11.599300507620455\n",
      "abar_PSD= 3.7007901284032457e-09\n",
      "std_noi_PSD= 6.055701075122116e-10\n",
      "noise2sd_PSD= 9.682944569781782\n",
      "after denoise SNR_PSD= 1.9163559378386736\n"
     ]
    },
    {
     "name": "stderr",
     "output_type": "stream",
     "text": [
      "<ipython-input-9-7b536a968678>:218: RuntimeWarning: More than 20 figures have been opened. Figures created through the pyplot interface (`matplotlib.pyplot.figure`) are retained until explicitly closed and may consume too much memory. (To control this warning, see the rcParam `figure.max_open_warning`).\n",
      "  plt.figure(figsize=(1800/my_dpi, 900/my_dpi), dpi=my_dpi) #1800x900 pixel image\n"
     ]
    },
    {
     "name": "stdout",
     "output_type": "stream",
     "text": [
      "\n",
      "signal_Cathy_l3_l= 12.132602550458472\n",
      "abar_Cathy= 1.6161222710535543e-08\n",
      "std_noi_Cathy= 3.0311184543786736e-09\n",
      "noise2sd_Cathy= 16.084742151236213\n",
      "Before denoise SNR_Cathy= -3.952139600777741\n"
     ]
    },
    {
     "name": "stderr",
     "output_type": "stream",
     "text": [
      "<ipython-input-9-7b536a968678>:249: RuntimeWarning: More than 20 figures have been opened. Figures created through the pyplot interface (`matplotlib.pyplot.figure`) are retained until explicitly closed and may consume too much memory. (To control this warning, see the rcParam `figure.max_open_warning`).\n",
      "  plt.figure(figsize=(1800/my_dpi, 900/my_dpi), dpi=my_dpi) #1800x900 pixel image\n"
     ]
    }
   ],
   "source": [
    "##Power Spectral Density(PSD)\n",
    "\n",
    "my_dpi=96\n",
    "numtaps=600 #Length of the filter, FIR filter design using the window method.\n",
    "SNR_improvement_PSD=[]\n",
    "beforedenoise_total_SNR_Cathy =[]\n",
    "beforedenoise_total_noise2sd_Cathy =[]\n",
    "optimized_total_SNR_PSD = []\n",
    "optimized_total_noise2sd_PSD = []\n",
    "L1 = []\n",
    "L2 = []\n",
    "origin_l1_l = []\n",
    "origin_l2_l = []\n",
    "origin_l3_l = []\n",
    "RA_origin_l1_l = []\n",
    "RA_origin_l2_l = []\n",
    "RA_origin_l3_l = []\n",
    "RA_PSD_Cathy_l1_l = []\n",
    "RA_PSD_Cathy_l2_l = []\n",
    "RA_PSD_Cathy_l3_l = []\n",
    "totla_num_PSDgain_negative = []\n",
    "\n",
    "for i in range(len(f1)):\n",
    "    print(\"\\n--------------  f1=%s  --------------\"%(f1[i]))\n",
    "    NFFT = len(total_Cathy_signal_l[i])\n",
    "    df = fs / NFFT\n",
    "    f_axis = np.arange(int(NFFT / 2)) * df\n",
    "    \n",
    "    Cathy_signal_l = total_Cathy_signal_l[i]\n",
    "    CMU_signal_l = total_CMU_signal_l[i]\n",
    "    AHGLAB_signal_l = total_AHGLAB_signal_l[i]\n",
    "    signal_L1 = total_signal_L1[i]\n",
    "    signal_L2 = total_signal_L2[i]\n",
    "    \n",
    "    Cathy_spectrum_l = 20 * np.log10(np.abs(np.fft.fft(Cathy_signal_l, NFFT) / int(NFFT / 2)))[:int(NFFT / 2)] + 94\n",
    "    CMU_spectrum_l = 20 * np.log10(np.abs(np.fft.fft(CMU_signal_l, NFFT) / int(NFFT / 2)))[:int(NFFT / 2)] + 94\n",
    "    AHGLAB_spectrum_l = 20 * np.log10(np.abs(np.fft.fft(AHGLAB_signal_l, NFFT) / int(NFFT / 2)))[:int(NFFT / 2)] + 94\n",
    "    spectrum_L1 = 20 * np.log10(np.abs(np.fft.fft(signal_L1, NFFT) / int(NFFT / 2)))[:int(NFFT / 2)] + 94\n",
    "    spectrum_L2 = 20 * np.log10(np.abs(np.fft.fft(signal_L2, NFFT) / int(NFFT / 2)))[:int(NFFT / 2)] + 94\n",
    "    #print(\"\\ntype(Cathy_spectrum_l)=\",type(Cathy_spectrum_l)) #<class 'numpy.ndarray'>\n",
    "    print(\"len(Cathy_spectrum_l)=\",len(Cathy_spectrum_l)) #10sec 239990, 2sec 47990\n",
    "\n",
    "    FIR_bandpassfilter_fdp = signal.firwin(numtaps, [(f3[i]-100)/(fs/2), (f3[i]+100)/(fs/2)], window='hann', pass_zero=False) #FIR_bandpassfilter_fdp, window='hann'\n",
    "    FIR_Cathy_signal_l = np.convolve(Cathy_signal_l, FIR_bandpassfilter_fdp, mode='same') #convolution\n",
    "    FIR_CMU_signal_l = np.convolve(CMU_signal_l, FIR_bandpassfilter_fdp, mode='same') #convolution\n",
    "    FIR_AHGLAB_signal_l = np.convolve(AHGLAB_signal_l, FIR_bandpassfilter_fdp, mode='same') #convolution\n",
    "    FIR_signal_L1 = np.convolve(signal_L1, FIR_bandpassfilter_fdp, mode='same') #convolution\n",
    "    FIR_signal_L2 = np.convolve(signal_L2, FIR_bandpassfilter_fdp, mode='same') #convolution \n",
    "    \n",
    "    FIR_Cathy_spectrum_l = 20 * np.log10(np.abs(np.fft.fft(FIR_Cathy_signal_l, NFFT) / int(NFFT / 2)))[:int(NFFT / 2)] + 94\n",
    "    FIR_CMU_spectrum_l = 20 * np.log10(np.abs(np.fft.fft(FIR_CMU_signal_l, NFFT) / int(NFFT / 2)))[:int(NFFT / 2)] + 94\n",
    "    FIR_AHGLAB_spectrum_l = 20 * np.log10(np.abs(np.fft.fft(FIR_AHGLAB_signal_l, NFFT) / int(NFFT / 2)))[:int(NFFT / 2)] + 94\n",
    "    \n",
    "    ##Cathy plot Spectrum & Spectrum (after FIR_bandpassfilter_fdp)\n",
    "    plt.figure(figsize=(1800/my_dpi, 900/my_dpi), dpi=my_dpi) #1800x900 pixel image\n",
    "    plt.plot(f_axis, Cathy_spectrum_l)\n",
    "    plt.plot(f_axis[int(round(f1[i] / df))], Cathy_spectrum_l[int(round(f1[i] / df))], 'mo', markerfacecolor = 'None')\n",
    "    plt.plot(f_axis[int(round(f2[i] / df))], Cathy_spectrum_l[int(round(f2[i] / df))], 'mo', markerfacecolor = 'None')\n",
    "    plt.plot(f_axis[int(round(f3[i] / df))], Cathy_spectrum_l[int(round(f3[i] / df))], 'go', markerfacecolor = 'None')\n",
    "    plt.title('DPOAE Spectrum_Cathy f1 = {} (Left ear)'.format(f1[i]), **title_font)\n",
    "    plt.text(f_axis[int(round(f1[i] / df))], Cathy_spectrum_l[int(round(f1[i] / df))], \"(f1,L1)=\\n(%dHz,%.2fdB)\" %(f1[i], Cathy_spectrum_l[int(round(f1[i] / df))]), verticalalignment='bottom', horizontalalignment='right', fontsize=axis_font['size'], rotation=0, color='m')\n",
    "    plt.text(f_axis[int(round(f2[i] / df))], Cathy_spectrum_l[int(round(f2[i] / df))], \"(f2,L2)=\\n(%dHz,%.2fdB)\" %(f2[i], Cathy_spectrum_l[int(round(f2[i] / df))]), verticalalignment='bottom', horizontalalignment='left', fontsize=axis_font['size'], rotation=0, color='m')\n",
    "    plt.text(f_axis[int(round(f3[i] / df))], Cathy_spectrum_l[int(round(f3[i] / df))], \"(fdp,Ldp)=\\n(%dHz,%.2fdB)\" %(f3[i], Cathy_spectrum_l[int(round(f3[i] / df))]), verticalalignment='bottom', horizontalalignment='center', fontsize=axis_font['size'], rotation=0, color='g')\n",
    "    plt.xticks( **tick_font)\n",
    "    plt.yticks( **tick_font)\n",
    "    plt.xlabel('Frequency (Hz)', **axis_font)\n",
    "    plt.ylabel('SPL (dB)', **axis_font)\n",
    "    plt.xlim(0, 8000) # 0~8000 Hz\n",
    "    plt.ylim(-30, 75) # -30~75 dB\n",
    "    plt.show()\n",
    "    plt.savefig('DPOAE Spectrum_Cathy f1 = %s (Left ear)_%s.png' %(f1[i],savename))\n",
    "\n",
    "    plt.figure(figsize=(1800/my_dpi, 900/my_dpi), dpi=my_dpi) #1800x900 pixel image\n",
    "    plt.plot(f_axis, FIR_Cathy_spectrum_l)\n",
    "    plt.plot(f_axis[int(round(f1[i] / df))], FIR_Cathy_spectrum_l[int(round(f1[i] / df))], 'mo', markerfacecolor = 'None')\n",
    "    plt.plot(f_axis[int(round(f2[i] / df))], FIR_Cathy_spectrum_l[int(round(f2[i] / df))], 'mo', markerfacecolor = 'None')\n",
    "    plt.plot(f_axis[int(round(f3[i] / df))], FIR_Cathy_spectrum_l[int(round(f3[i] / df))], 'go', markerfacecolor = 'None')\n",
    "    plt.title('DPOAE Spectrum_Cathy f1 = {} after FIR_bandpassfilter_fdp (Left ear)'.format(f1[i]), **title_font)\n",
    "    plt.text(f_axis[int(round(f1[i] / df))], FIR_Cathy_spectrum_l[int(round(f1[i] / df))], \"(f1,L1)=\\n(%dHz,%.2fdB)\" %(f1[i], FIR_Cathy_spectrum_l[int(round(f1[i] / df))]), verticalalignment='bottom', horizontalalignment='right', fontsize=axis_font['size'], rotation=0, color='m')\n",
    "    plt.text(f_axis[int(round(f2[i] / df))], FIR_Cathy_spectrum_l[int(round(f2[i] / df))], \"(f2,L2)=\\n(%dHz,%.2fdB)\" %(f2[i], FIR_Cathy_spectrum_l[int(round(f2[i] / df))]), verticalalignment='bottom', horizontalalignment='left', fontsize=axis_font['size'], rotation=0, color='m')\n",
    "    plt.text(f_axis[int(round(f3[i] / df))], FIR_Cathy_spectrum_l[int(round(f3[i] / df))], \"(fdp,Ldp)=\\n(%dHz,%.2fdB)\" %(f3[i], FIR_Cathy_spectrum_l[int(round(f3[i] / df))]), verticalalignment='bottom', horizontalalignment='center', fontsize=axis_font['size'], rotation=0, color='g')\n",
    "    plt.xticks( **tick_font)\n",
    "    plt.yticks( **tick_font)\n",
    "    plt.xlabel('Frequency (Hz)', **axis_font)\n",
    "    plt.ylabel('SPL (dB)', **axis_font)\n",
    "    plt.xlim(0, 8000) # 0~8000 Hz\n",
    "    plt.ylim(-30, 75) # -30~75 dB\n",
    "    plt.show()\n",
    "    plt.savefig('DPOAE Spectrum_Cathy f1 = %s after FIR_bandpassfilter_fdp (Left ear)_%s.png' %(f1[i],savename))\n",
    "    \n",
    "    ##CMU plot Spectrum & Spectrum (after FIR_bandpassfilter_fdp)\n",
    "    plt.figure(figsize=(1800/my_dpi, 900/my_dpi), dpi=my_dpi) #1800x900 pixel image\n",
    "    plt.plot(f_axis, CMU_spectrum_l)\n",
    "    plt.plot(f_axis[int(round(f1[i] / df))], CMU_spectrum_l[int(round(f1[i] / df))], 'mo', markerfacecolor = 'None')\n",
    "    plt.plot(f_axis[int(round(f2[i] / df))], CMU_spectrum_l[int(round(f2[i] / df))], 'mo', markerfacecolor = 'None')\n",
    "    plt.plot(f_axis[int(round(f3[i] / df))], CMU_spectrum_l[int(round(f3[i] / df))], 'go', markerfacecolor = 'None')\n",
    "    plt.title('DPOAE Spectrum_CMU f1 = {} (ref-out)'.format(f1[i]), **title_font)\n",
    "    plt.text(f_axis[int(round(f1[i] / df))], CMU_spectrum_l[int(round(f1[i] / df))], \"(f1,L1)=\\n(%dHz,%.2fdB)\" %(f1[i], CMU_spectrum_l[int(round(f1[i] / df))]), verticalalignment='bottom', horizontalalignment='right', fontsize=axis_font['size'], rotation=0, color='m')\n",
    "    plt.text(f_axis[int(round(f2[i] / df))], CMU_spectrum_l[int(round(f2[i] / df))], \"(f2,L2)=\\n(%dHz,%.2fdB)\" %(f2[i], CMU_spectrum_l[int(round(f2[i] / df))]), verticalalignment='bottom', horizontalalignment='left', fontsize=axis_font['size'], rotation=0, color='m')\n",
    "    plt.text(f_axis[int(round(f3[i] / df))], CMU_spectrum_l[int(round(f3[i] / df))], \"(fdp,Ldp)=\\n(%dHz,%.2fdB)\" %(f3[i], CMU_spectrum_l[int(round(f3[i] / df))]), verticalalignment='bottom', horizontalalignment='center', fontsize=axis_font['size'], rotation=0, color='g')\n",
    "    plt.xticks( **tick_font)\n",
    "    plt.yticks( **tick_font)\n",
    "    plt.xlabel('Frequency (Hz)', **axis_font)\n",
    "    plt.ylabel('SPL (dB)', **axis_font)\n",
    "    plt.xlim(0, 8000) # 0~8000 Hz\n",
    "    plt.ylim(-30, 75) # -30~75 dB\n",
    "    plt.show()\n",
    "    plt.savefig('DPOAE Spectrum_CMU f1 = %s (ref-out)_%s.png' %(f1[i],savename))\n",
    "\n",
    "    plt.figure(figsize=(1800/my_dpi, 900/my_dpi), dpi=my_dpi) #1800x900 pixel image\n",
    "    plt.plot(f_axis, FIR_CMU_spectrum_l)\n",
    "    plt.plot(f_axis[int(round(f1[i] / df))], FIR_CMU_spectrum_l[int(round(f1[i] / df))], 'mo', markerfacecolor = 'None')\n",
    "    plt.plot(f_axis[int(round(f2[i] / df))], FIR_CMU_spectrum_l[int(round(f2[i] / df))], 'mo', markerfacecolor = 'None')\n",
    "    plt.plot(f_axis[int(round(f3[i] / df))], FIR_CMU_spectrum_l[int(round(f3[i] / df))], 'go', markerfacecolor = 'None')\n",
    "    plt.title('DPOAE Spectrum_CMU f1 = {} after FIR_bandpassfilter_fdp (ref-out)'.format(f1[i]), **title_font)\n",
    "    plt.text(f_axis[int(round(f1[i] / df))], FIR_CMU_spectrum_l[int(round(f1[i] / df))], \"(f1,L1)=\\n(%dHz,%.2fdB)\" %(f1[i], FIR_CMU_spectrum_l[int(round(f1[i] / df))]), verticalalignment='bottom', horizontalalignment='right', fontsize=axis_font['size'], rotation=0, color='m')\n",
    "    plt.text(f_axis[int(round(f2[i] / df))], FIR_CMU_spectrum_l[int(round(f2[i] / df))], \"(f2,L2)=\\n(%dHz,%.2fdB)\" %(f2[i], FIR_CMU_spectrum_l[int(round(f2[i] / df))]), verticalalignment='bottom', horizontalalignment='left', fontsize=axis_font['size'], rotation=0, color='m')\n",
    "    plt.text(f_axis[int(round(f3[i] / df))], FIR_CMU_spectrum_l[int(round(f3[i] / df))], \"(fdp,Ldp)=\\n(%dHz,%.2fdB)\" %(f3[i], FIR_CMU_spectrum_l[int(round(f3[i] / df))]), verticalalignment='bottom', horizontalalignment='center', fontsize=axis_font['size'], rotation=0, color='g')\n",
    "    plt.xticks( **tick_font)\n",
    "    plt.yticks( **tick_font)\n",
    "    plt.xlabel('Frequency (Hz)', **axis_font)\n",
    "    plt.ylabel('SPL (dB)', **axis_font)\n",
    "    plt.xlim(0, 8000) # 0~8000 Hz\n",
    "    plt.ylim(-30, 75) # -30~75 dB\n",
    "    plt.show()\n",
    "    plt.savefig('DPOAE Spectrum_CMU f1 = %s after FIR_bandpassfilter_fdp (ref-out)_%s.png' %(f1[i],savename))\n",
    "\n",
    "    ##AHGLAB plot Spectrum & Spectrum (after FIR_bandpassfilter_fdp)\n",
    "    plt.figure(figsize=(1800/my_dpi, 900/my_dpi), dpi=my_dpi) #1800x900 pixel image\n",
    "    plt.plot(f_axis, AHGLAB_spectrum_l)\n",
    "    plt.plot(f_axis[int(round(f1[i] / df))], AHGLAB_spectrum_l[int(round(f1[i] / df))], 'mo', markerfacecolor = 'None')\n",
    "    plt.plot(f_axis[int(round(f2[i] / df))], AHGLAB_spectrum_l[int(round(f2[i] / df))], 'mo', markerfacecolor = 'None')\n",
    "    plt.plot(f_axis[int(round(f3[i] / df))], AHGLAB_spectrum_l[int(round(f3[i] / df))], 'go', markerfacecolor = 'None')\n",
    "    plt.title('DPOAE Spectrum_AHGLAB f1 = {} (ref-in)'.format(f1[i]), **title_font)\n",
    "    plt.text(f_axis[int(round(f1[i] / df))], AHGLAB_spectrum_l[int(round(f1[i] / df))], \"(f1,L1)=\\n(%dHz,%.2fdB)\" %(f1[i], AHGLAB_spectrum_l[int(round(f1[i] / df))]), verticalalignment='bottom', horizontalalignment='right', fontsize=axis_font['size'], rotation=0, color='m')\n",
    "    plt.text(f_axis[int(round(f2[i] / df))], AHGLAB_spectrum_l[int(round(f2[i] / df))], \"(f2,L2)=\\n(%dHz,%.2fdB)\" %(f2[i], AHGLAB_spectrum_l[int(round(f2[i] / df))]), verticalalignment='bottom', horizontalalignment='left', fontsize=axis_font['size'], rotation=0, color='m')\n",
    "    plt.text(f_axis[int(round(f3[i] / df))], AHGLAB_spectrum_l[int(round(f3[i] / df))], \"(fdp,Ldp)=\\n(%dHz,%.2fdB)\" %(f3[i], AHGLAB_spectrum_l[int(round(f3[i] / df))]), verticalalignment='bottom', horizontalalignment='center', fontsize=axis_font['size'], rotation=0, color='g')\n",
    "    plt.xticks( **tick_font)\n",
    "    plt.yticks( **tick_font)\n",
    "    plt.xlabel('Frequency (Hz)', **axis_font)\n",
    "    plt.ylabel('SPL (dB)', **axis_font)\n",
    "    plt.xlim(0, 8000) # 0~8000 Hz\n",
    "    plt.ylim(-30, 75) # -30~75 dB\n",
    "    plt.show()\n",
    "    plt.savefig('DPOAE Spectrum_AHGLAB f1 = %s (ref-in)_%s.png' %(f1[i],savename))\n",
    "\n",
    "    plt.figure(figsize=(1800/my_dpi, 900/my_dpi), dpi=my_dpi) #1800x900 pixel image\n",
    "    plt.plot(f_axis, FIR_AHGLAB_spectrum_l)\n",
    "    plt.plot(f_axis[int(round(f1[i] / df))], FIR_AHGLAB_spectrum_l[int(round(f1[i] / df))], 'mo', markerfacecolor = 'None')\n",
    "    plt.plot(f_axis[int(round(f2[i] / df))], FIR_AHGLAB_spectrum_l[int(round(f2[i] / df))], 'mo', markerfacecolor = 'None')\n",
    "    plt.plot(f_axis[int(round(f3[i] / df))], FIR_AHGLAB_spectrum_l[int(round(f3[i] / df))], 'go', markerfacecolor = 'None')\n",
    "    plt.title('DPOAE Spectrum_AHGLAB f1 = {} after FIR_bandpassfilter_fdp (ref-in)'.format(f1[i]), **title_font)\n",
    "    plt.text(f_axis[int(round(f1[i] / df))], FIR_AHGLAB_spectrum_l[int(round(f1[i] / df))], \"(f1,L1)=\\n(%dHz,%.2fdB)\" %(f1[i], FIR_AHGLAB_spectrum_l[int(round(f1[i] / df))]), verticalalignment='bottom', horizontalalignment='right', fontsize=axis_font['size'], rotation=0, color='m')\n",
    "    plt.text(f_axis[int(round(f2[i] / df))], FIR_AHGLAB_spectrum_l[int(round(f2[i] / df))], \"(f2,L2)=\\n(%dHz,%.2fdB)\" %(f2[i], FIR_AHGLAB_spectrum_l[int(round(f2[i] / df))]), verticalalignment='bottom', horizontalalignment='left', fontsize=axis_font['size'], rotation=0, color='m')\n",
    "    plt.text(f_axis[int(round(f3[i] / df))], FIR_AHGLAB_spectrum_l[int(round(f3[i] / df))], \"(fdp,Ldp)=\\n(%dHz,%.2fdB)\" %(f3[i], FIR_AHGLAB_spectrum_l[int(round(f3[i] / df))]), verticalalignment='bottom', horizontalalignment='center', fontsize=axis_font['size'], rotation=0, color='g')\n",
    "    plt.xticks( **tick_font)\n",
    "    plt.yticks( **tick_font)\n",
    "    plt.xlabel('Frequency (Hz)', **axis_font)\n",
    "    plt.ylabel('SPL (dB)', **axis_font)\n",
    "    plt.xlim(0, 8000) # 0~8000 Hz\n",
    "    plt.ylim(-30, 75) # -30~75 dB\n",
    "    plt.show()\n",
    "    plt.savefig('DPOAE Spectrum_AHGLAB f1 = %s after FIR_bandpassfilter_fdp (ref-in)_%s.png' %(f1[i],savename))\n",
    "    \n",
    "    #plot Spectrum_Computer input L1 L2\n",
    "    plt.figure(figsize=(1800/my_dpi, 900/my_dpi), dpi=my_dpi) #1800x900 pixel image\n",
    "    plt.plot(f_axis, spectrum_L1)\n",
    "    plt.plot(f_axis[int(round(f1[i] / df))], spectrum_L1[int(round(f1[i] / df))], 'mo', markerfacecolor = 'None')\n",
    "    plt.plot(f_axis[int(round(f2[i] / df))], spectrum_L1[int(round(f2[i] / df))], 'mo', markerfacecolor = 'None')\n",
    "    plt.plot(f_axis[int(round(f3[i] / df))], spectrum_L1[int(round(f3[i] / df))], 'go', markerfacecolor = 'None')\n",
    "    plt.title('Spectrum_Computer input L1 f1 = {}'.format(f1[i]), **title_font)\n",
    "    plt.text(f_axis[int(round(f1[i] / df))], spectrum_L1[int(round(f1[i] / df))], \"(f1,L1)=\\n(%dHz,%.2fdB)\" %(f1[i], spectrum_L1[int(round(f1[i] / df))]), verticalalignment='bottom', horizontalalignment='right', fontsize=axis_font['size'], rotation=0, color='m')\n",
    "    plt.text(f_axis[int(round(f2[i] / df))], spectrum_L1[int(round(f2[i] / df))], \"(f2,L2)=\\n(%dHz,%.2fdB)\" %(f2[i], spectrum_L1[int(round(f2[i] / df))]), verticalalignment='bottom', horizontalalignment='left', fontsize=axis_font['size'], rotation=0, color='m')\n",
    "    plt.text(f_axis[int(round(f3[i] / df))], spectrum_L1[int(round(f3[i] / df))], \"(fdp,Ldp)=\\n(%dHz,%.2fdB)\" %(f3[i], spectrum_L1[int(round(f3[i] / df))]), verticalalignment='bottom', horizontalalignment='center', fontsize=axis_font['size'], rotation=0, color='g')\n",
    "    plt.xticks( **tick_font)\n",
    "    plt.yticks( **tick_font)\n",
    "    plt.xlabel('Frequency (Hz)', **axis_font)\n",
    "    plt.ylabel('SPL (dB)', **axis_font)\n",
    "    plt.xlim(0, 8000) # 0~8000 Hz\n",
    "    plt.ylim(-30, 75) # -30~75 dB\n",
    "    plt.show()\n",
    "    plt.savefig('Spectrum_Computer input L1 f1 = %s (Left ear)_%s.png' %(f1[i],savename))\n",
    "    \n",
    "    plt.figure(figsize=(1800/my_dpi, 900/my_dpi), dpi=my_dpi) #1800x900 pixel image\n",
    "    plt.plot(f_axis, spectrum_L2)\n",
    "    plt.plot(f_axis[int(round(f1[i] / df))], spectrum_L2[int(round(f1[i] / df))], 'mo', markerfacecolor = 'None')\n",
    "    plt.plot(f_axis[int(round(f2[i] / df))], spectrum_L2[int(round(f2[i] / df))], 'mo', markerfacecolor = 'None')\n",
    "    plt.plot(f_axis[int(round(f3[i] / df))], spectrum_L2[int(round(f3[i] / df))], 'go', markerfacecolor = 'None')\n",
    "    plt.title('Spectrum_Computer input L2 f1 = {}'.format(f1[i]), **title_font)\n",
    "    plt.text(f_axis[int(round(f1[i] / df))], spectrum_L2[int(round(f1[i] / df))], \"(f1,L1)=\\n(%dHz,%.2fdB)\" %(f1[i], spectrum_L2[int(round(f1[i] / df))]), verticalalignment='bottom', horizontalalignment='right', fontsize=axis_font['size'], rotation=0, color='m')\n",
    "    plt.text(f_axis[int(round(f2[i] / df))], spectrum_L2[int(round(f2[i] / df))], \"(f2,L2)=\\n(%dHz,%.2fdB)\" %(f2[i], spectrum_L2[int(round(f2[i] / df))]), verticalalignment='bottom', horizontalalignment='left', fontsize=axis_font['size'], rotation=0, color='m')\n",
    "    plt.text(f_axis[int(round(f3[i] / df))], spectrum_L2[int(round(f3[i] / df))], \"(fdp,Ldp)=\\n(%dHz,%.2fdB)\" %(f3[i], spectrum_L2[int(round(f3[i] / df))]), verticalalignment='bottom', horizontalalignment='center', fontsize=axis_font['size'], rotation=0, color='g')\n",
    "    plt.xticks( **tick_font)\n",
    "    plt.yticks( **tick_font)\n",
    "    plt.xlabel('Frequency (Hz)', **axis_font)\n",
    "    plt.ylabel('SPL (dB)', **axis_font)\n",
    "    plt.xlim(0, 8000) # 0~8000 Hz\n",
    "    plt.ylim(-30, 75) # -30~75 dB\n",
    "    plt.show()\n",
    "    plt.savefig('Spectrum_Computer input L2 f1 = %s (Left ear)_%s.png' %(f1[i],savename)) \n",
    "    \n",
    "    #PSDv2 denoise Cathy after recursive averaging(PSDv2), plot spectrum\n",
    "    RA_axis, RA_nfft, RA_PSD_power, PSD_Cathy_time, num_PSDgain_negative = PSDv2(0, FIR_Cathy_signal_l.real, FIR_AHGLAB_signal_l.real, FIR_signal_L1, FIR_signal_L2, fs, i)\n",
    "    totla_num_PSDgain_negative.append(num_PSDgain_negative)\n",
    "    print(\"num_PSDgain_negative=\",num_PSDgain_negative)\n",
    "    RA_PSD_spectrum_l = 10 * np.log10(np.abs(RA_PSD_power))[:int(RA_nfft / 2)] + 94\n",
    "    \n",
    "    #signal to noise ratio(SNR), the larger the better.\n",
    "    signal_PSD_l3_l, abar_PSD, std_noi_PSD, noise2sd_PSD, SNR_PSD=SNR(RA_PSD_power, RA_PSD_spectrum_l, f3[i], fs, RA_nfft)\n",
    "    print(\"\\nsignal_PSD_l3_l=\",signal_PSD_l3_l)\n",
    "    print(\"abar_PSD=\",abar_PSD)\n",
    "    print(\"std_noi_PSD=\",std_noi_PSD) \n",
    "    print(\"noise2sd_PSD=\",noise2sd_PSD) \n",
    "    print(\"after denoise SNR_PSD=\",SNR_PSD)\n",
    "    optimized_total_SNR_PSD.append(SNR_PSD)\n",
    "    optimized_total_noise2sd_PSD.append(noise2sd_PSD)\n",
    "    \n",
    "    plt.figure(figsize=(1800/my_dpi, 900/my_dpi), dpi=my_dpi) #1800x900 pixel image\n",
    "    plt.plot(RA_axis, RA_PSD_spectrum_l)\n",
    "    plt.plot(RA_axis[int(round(f1[i] / (fs/RA_nfft)))], RA_PSD_spectrum_l[int(round(f1[i] / (fs/RA_nfft)))], 'mo', markerfacecolor = 'None')\n",
    "    plt.plot(RA_axis[int(round(f2[i] / (fs/RA_nfft)))], RA_PSD_spectrum_l[int(round(f2[i] / (fs/RA_nfft)))], 'mo', markerfacecolor = 'None')\n",
    "    plt.plot(RA_axis[int(round(f3[i] / (fs/RA_nfft)))], RA_PSD_spectrum_l[int(round(f3[i] / (fs/RA_nfft)))], 'go', markerfacecolor = 'None')\n",
    "    plt.title('DPOAE Spectrum_f1 = {} after FIR_after PSD_stage 1 (Left ear)'.format(f1[i]), **title_font)\n",
    "    plt.text(RA_axis[int(round(f1[i] / (fs/RA_nfft)))], RA_PSD_spectrum_l[int(round(f1[i] / (fs/RA_nfft)))], \"(f1,L1)=\\n(%dHz,%.2fdB)\" %(f1[i], RA_PSD_spectrum_l[int(round(f1[i] / (fs/RA_nfft)))]), verticalalignment='bottom', horizontalalignment='right', fontsize=axis_font['size'], rotation=0, color='m')\n",
    "    plt.text(RA_axis[int(round(f2[i] / (fs/RA_nfft)))], RA_PSD_spectrum_l[int(round(f2[i] / (fs/RA_nfft)))], \"(f2,L2)=\\n(%dHz,%.2fdB)\" %(f2[i], RA_PSD_spectrum_l[int(round(f2[i] / (fs/RA_nfft)))]), verticalalignment='bottom', horizontalalignment='left', fontsize=axis_font['size'], rotation=0, color='m')\n",
    "    plt.text(RA_axis[int(round(f3[i] / (fs/RA_nfft)))], RA_PSD_spectrum_l[int(round(f3[i] / (fs/RA_nfft)))], \"(fdp,Ldp)=\\n(%dHz,%.2fdB)\" %(f3[i], RA_PSD_spectrum_l[int(round(f3[i] / (fs/RA_nfft)))]), verticalalignment='bottom', horizontalalignment='center', fontsize=axis_font['size'], rotation=0, color='g')\n",
    "    plt.xticks( **tick_font)\n",
    "    plt.yticks( **tick_font)\n",
    "    plt.xlabel('Frequency (Hz)', **axis_font)\n",
    "    plt.ylabel('SPL (dB)', **axis_font)\n",
    "    plt.xlim(0, 8000) # 0~8000 Hz\n",
    "    plt.ylim(-30, 75) # -30~75 dB\n",
    "    plt.show()\n",
    "    plt.savefig('DPOAE RA Spectrum_f1 = %s after FIR_after PSD_stage 1 (Left ear)_%s.png' %(f1[i],savename))\n",
    "    \n",
    "    #before denoise SNR\n",
    "    RA_axis, RA_nfft, RA_Cathy_signal_l = Step123(0, Cathy_signal_l.real, fs, i)\n",
    "    RA_Cathy_power=RA_Cathy_signal_l[:int(RA_nfft / 2)]\n",
    "    RA_Cathy_signal_l_spectrum_l = 10 * np.log10(np.abs(RA_Cathy_signal_l))[:int(RA_nfft / 2)] + 94\n",
    "    signal_Cathy_l3_l, abar_Cathy, std_noi_Cathy, noise2sd_Cathy, SNR_Cathy=SNR(RA_Cathy_power, RA_Cathy_signal_l_spectrum_l, f3[i], fs, RA_nfft)\n",
    "    print(\"\\nsignal_Cathy_l3_l=\",signal_Cathy_l3_l)\n",
    "    print(\"abar_Cathy=\",abar_Cathy)\n",
    "    print(\"std_noi_Cathy=\",std_noi_Cathy) \n",
    "    print(\"noise2sd_Cathy=\",noise2sd_Cathy) \n",
    "    print(\"Before denoise SNR_Cathy=\",SNR_Cathy)\n",
    "    beforedenoise_total_SNR_Cathy.append(SNR_Cathy)\n",
    "    beforedenoise_total_noise2sd_Cathy.append(noise2sd_Cathy)\n",
    "    #Cathy after recursive averaging(Step123), plot spectrum\n",
    "    plt.figure(figsize=(1800/my_dpi, 900/my_dpi), dpi=my_dpi) #1800x900 pixel image\n",
    "    plt.plot(RA_axis, RA_Cathy_signal_l_spectrum_l)\n",
    "    plt.plot(RA_axis[int(round(f1[i] / (fs/RA_nfft)))], RA_Cathy_signal_l_spectrum_l[int(round(f1[i] / (fs/RA_nfft)))], 'mo', markerfacecolor = 'None')\n",
    "    plt.plot(RA_axis[int(round(f2[i] / (fs/RA_nfft)))], RA_Cathy_signal_l_spectrum_l[int(round(f2[i] / (fs/RA_nfft)))], 'mo', markerfacecolor = 'None')\n",
    "    plt.plot(RA_axis[int(round(f3[i] / (fs/RA_nfft)))], RA_Cathy_signal_l_spectrum_l[int(round(f3[i] / (fs/RA_nfft)))], 'go', markerfacecolor = 'None')\n",
    "    plt.title('DPOAE Spectrum_Cathy f1 = {} (Left ear)'.format(f1[i]), **title_font)\n",
    "    plt.text(RA_axis[int(round(f1[i] / (fs/RA_nfft)))], RA_Cathy_signal_l_spectrum_l[int(round(f1[i] / (fs/RA_nfft)))], \"(f1,L1)=\\n(%dHz,%.2fdB)\" %(f1[i], RA_Cathy_signal_l_spectrum_l[int(round(f1[i] / (fs/RA_nfft)))]), verticalalignment='bottom', horizontalalignment='right', fontsize=axis_font['size'], rotation=0, color='m')\n",
    "    plt.text(RA_axis[int(round(f2[i] / (fs/RA_nfft)))], RA_Cathy_signal_l_spectrum_l[int(round(f2[i] / (fs/RA_nfft)))], \"(f2,L2)=\\n(%dHz,%.2fdB)\" %(f2[i], RA_Cathy_signal_l_spectrum_l[int(round(f2[i] / (fs/RA_nfft)))]), verticalalignment='bottom', horizontalalignment='left', fontsize=axis_font['size'], rotation=0, color='m')\n",
    "    plt.text(RA_axis[int(round(f3[i] / (fs/RA_nfft)))], RA_Cathy_signal_l_spectrum_l[int(round(f3[i] / (fs/RA_nfft)))], \"(fdp,Ldp)=\\n(%dHz,%.2fdB)\" %(f3[i], RA_Cathy_signal_l_spectrum_l[int(round(f3[i] / (fs/RA_nfft)))]), verticalalignment='bottom', horizontalalignment='center', fontsize=axis_font['size'], rotation=0, color='g')\n",
    "    plt.xticks( **tick_font)\n",
    "    plt.yticks( **tick_font)\n",
    "    plt.xlabel('Frequency (Hz)', **axis_font)\n",
    "    plt.ylabel('SPL (dB)', **axis_font)\n",
    "    plt.xlim(0, 8000) # 0~8000 Hz\n",
    "    plt.ylim(-30, 75) # -30~75 dB\n",
    "    plt.show()\n",
    "    plt.savefig('DPOAE RA Spectrum_Cathy f1 = %s (Left ear)_%s.png' %(f1[i],savename))                                                                                                                       \n",
    "\n",
    "    #L1 L2 L3 collection\n",
    "    L1.append(spectrum_L1[int(round(f1[i] / df))])\n",
    "    L2.append(spectrum_L2[int(round(f2[i] / df))])                                                   \n",
    "    origin_l1_l.append(Cathy_spectrum_l[int(round(f1[i] / df))])\n",
    "    origin_l2_l.append(Cathy_spectrum_l[int(round(f2[i] / df))])\n",
    "    origin_l3_l.append(Cathy_spectrum_l[int(round(f3[i] / df))])\n",
    "    RA_origin_l1_l.append(RA_Cathy_signal_l_spectrum_l[int(round(f1[i] / (fs/RA_nfft)))])\n",
    "    RA_origin_l2_l.append(RA_Cathy_signal_l_spectrum_l[int(round(f2[i] / (fs/RA_nfft)))])\n",
    "    RA_origin_l3_l.append(RA_Cathy_signal_l_spectrum_l[int(round(f3[i] / (fs/RA_nfft)))])\n",
    "    RA_PSD_Cathy_l1_l.append(RA_PSD_spectrum_l[int(round(f1[i] / (fs/RA_nfft)))])\n",
    "    RA_PSD_Cathy_l2_l.append(RA_PSD_spectrum_l[int(round(f2[i] / (fs/RA_nfft)))])\n",
    "    RA_PSD_Cathy_l3_l.append(RA_PSD_spectrum_l[int(round(f3[i] / (fs/RA_nfft)))])\n",
    "                                                                         \n",
    "    #save after denoised wav file_PSD\n",
    "    #sf.write('denoise PSD_quiet_f1=%sHz.wav' %(f1[i]), PSD_Cathy_time.real, fs)\n",
    "    #sf.write('denoise PSD_70dBA_f1=%sHz.wav' %(f1[i]), PSD_Cathy_time.real, fs)\n",
    "    sf.write('denoise PSD_75dBA_f1=%sHz.wav' %(f1[i]), PSD_Cathy_time.real, fs)     \n",
    "\n",
    "for pp in range(len(beforedenoise_total_SNR_Cathy)):\n",
    "    SNR_improvement_PSD.append(optimized_total_SNR_PSD[pp]-beforedenoise_total_SNR_Cathy[pp])"
   ]
  },
  {
   "cell_type": "code",
   "execution_count": 10,
   "metadata": {},
   "outputs": [
    {
     "name": "stdout",
     "output_type": "stream",
     "text": [
      "totla_num_PSDgain_negative= [1185, 832, 2339, 1338, 1288, 580, 1327, 446, 520, 824]\n",
      "origin_l3_l =  [7.531829667102997, 9.625219156093692, 12.109235235726857, 8.682084200433806, -2.7302628234296265, 4.847100876692139, 7.562633736234119, 11.401369532461516, 4.473925279228752, 11.246725757034866]\n",
      "\n",
      "RA_origin_l1_l =  [64.87934555892112, 65.70116396996063, 65.96245495384291, 68.00213944980615, 63.46546094323857, 64.45628963573333, 66.04415446165163, 63.45711798155672, 61.61334843574063, 64.24487871738131]\n",
      "RA_origin_l2_l =  [55.232515976103315, 55.965503948539705, 56.90676542205528, 55.90679200442173, 53.97221050923748, 54.05798193608805, 52.886189534478895, 51.59974723844589, 53.51824894834335, 58.05643690494417]\n",
      "RA_origin_l3_l =  [23.347013220873947, 16.38573036564678, 16.052123811600936, 16.049966023923346, 12.906520652435589, 21.412964581589463, 16.84740820646057, 23.81531079450653, 22.40628859003384, 12.132602550458472]\n",
      "\n",
      "RA_PSD_Cathy_l1_l =  [25.331111350587605, 16.900578094015387, 12.64513485246016, -5.36220234986726, -54.57389697885327, -50.60224118583773, -62.9094200482661, -70.04701294586997, -55.552998757577626, -60.436717954241146]\n",
      "RA_PSD_Cathy_l2_l =  [4.225664624456726, -8.611312296757063, -47.11621946488037, -33.37084084926005, -59.72543719783414, -72.92595768401173, -96.57756638558229, -87.08740517845663, -75.74555146609981, -90.56859095399489]\n",
      "RA_PSD_Cathy_l3_l =  [19.06732660318262, -15.34499358350591, 2.9015630275981863, 13.587275941237237, 0.678691228882542, 21.114461006803367, 7.657336943440328, 21.234138537530214, 22.14277603747216, 11.599300507620455]\n",
      "optimized_total_SNR_PSD = [2.4605364901463673, -26.459581455068545, 17.618128554515707, 2.332061254096871, 18.30396377432625, 1.6092763542235105, -2.957080659930682, -0.6867258357556807, 1.818502080624981, 1.9163559378386736]\n",
      "optimized_total_noise2sd_PSD = [16.606790113036254, 11.114587871562634, -14.71656552691752, 11.255214687140366, -17.625272545443707, 19.505184652579857, 10.61441760337101, 21.920864373285895, 20.32427395684718, 9.682944569781782]\n",
      "\n",
      "beforedenoise_total_SNR_Cathy = [-26.993815956688607, -11.399308300453313, -5.691566070722516, -1.270454049414596, -2.1428920255897737, -1.1886648094439067, -4.728968901520915, -2.489879587367682, -3.1140874795745077, -3.952139600777741]\n",
      "beforedenoise_total_noise2sd_Cathy = [50.340829177562554, 27.785038666100093, 21.74368988232345, 17.320420073337942, 15.049412678025362, 22.60162939103337, 21.576377107981486, 26.305190381874212, 25.520376069608346, 16.084742151236213]\n",
      "SNR_improvement_PSD = [29.454352446834974, -15.060273154615231, 23.309694625238222, 3.602515303511467, 20.446855799916023, 2.797941163667417, 1.7718882415902328, 1.803153751612001, 4.932589560199489, 5.868495538616415]\n"
     ]
    }
   ],
   "source": [
    "print(\"totla_num_PSDgain_negative=\",totla_num_PSDgain_negative)\n",
    "\n",
    "#print(\"\\nComputer input L1 = \", L1)\n",
    "#print(\"Computer input L2 = \", L2) \n",
    "\n",
    "#print(\"\\norigin_l1_l = \", origin_l1_l)\n",
    "#print(\"origin_l2_l = \", origin_l2_l)\n",
    "print(\"origin_l3_l = \", origin_l3_l)\n",
    "print(\"\\nRA_origin_l1_l = \", RA_origin_l1_l)\n",
    "print(\"RA_origin_l2_l = \", RA_origin_l2_l)\n",
    "print(\"RA_origin_l3_l = \", RA_origin_l3_l)\n",
    "\n",
    "print(\"\\nRA_PSD_Cathy_l1_l = \", RA_PSD_Cathy_l1_l)\n",
    "print(\"RA_PSD_Cathy_l2_l = \", RA_PSD_Cathy_l2_l)\n",
    "print(\"RA_PSD_Cathy_l3_l = \", RA_PSD_Cathy_l3_l)\n",
    "\n",
    "print(\"optimized_total_SNR_PSD =\",optimized_total_SNR_PSD)\n",
    "print(\"optimized_total_noise2sd_PSD =\",optimized_total_noise2sd_PSD)\n",
    "\n",
    "print(\"\\nbeforedenoise_total_SNR_Cathy =\",beforedenoise_total_SNR_Cathy)\n",
    "print(\"beforedenoise_total_noise2sd_Cathy =\",beforedenoise_total_noise2sd_Cathy)\n",
    "print(\"SNR_improvement_PSD =\",SNR_improvement_PSD)"
   ]
  },
  {
   "cell_type": "code",
   "execution_count": null,
   "metadata": {
    "scrolled": true
   },
   "outputs": [],
   "source": [
    "##RA Comparison with 2speaker_L&R 34dBA quiet\n",
    "#matplotlib qt\n",
    "#labels = [0.732, 0.976, 1.098, 1.464, 3.05, 3.904, 4.392, 4.88, 5.856, 7.32] #f2\n",
    "labels = [0.468, 0.624, 0.702, 0.936, 1.950, 2.496, 2.808, 3.12, 3.744, 4.68] #fdp(2f1-f2)\n",
    "plt.figure(figsize=(1200/my_dpi, 900/my_dpi), dpi=my_dpi) #1200x900 pixel image\n",
    "g, = plt.plot(RA_origin_l3_l, 'ko') #20201205 DPOAE_quiet\n",
    "g, = plt.plot(RA_origin_l3_l, 'k') #20201205 DPOAE_quiet\n",
    "h, = plt.plot(RA_PSD_Cathy_l3_l, 'g--') #PSD\n",
    "n, = plt.plot(optimized_total_noise2sd_PSD , 'g:')\n",
    "plt.legend(handles = [g, h, n], labels = ['quiet', 'PSD', 'noise_PSD'], prop = {'size' : tick_font['size']})\n",
    "plt.title('DPOAE_%s' %name.split('_')[0], **title_font)\n",
    "plt.xticks(np.arange(len(f1)), labels,  **tick_font)\n",
    "plt.yticks( **tick_font)\n",
    "#plt.xlabel('f2 frequency (kHz)', **axis_font)\n",
    "plt.xlabel('fdp(2f1-f2) frequency (kHz)', **axis_font)\n",
    "plt.ylabel('SPL (dB)', **axis_font)\n",
    "plt.show()\n",
    "plt.savefig('Comparison_RA_DPOAE_PSD_34dBA quiet.png')"
   ]
  },
  {
   "cell_type": "code",
   "execution_count": 11,
   "metadata": {},
   "outputs": [
    {
     "name": "stderr",
     "output_type": "stream",
     "text": [
      "<ipython-input-11-fe7e4a48417b>:5: RuntimeWarning: More than 20 figures have been opened. Figures created through the pyplot interface (`matplotlib.pyplot.figure`) are retained until explicitly closed and may consume too much memory. (To control this warning, see the rcParam `figure.max_open_warning`).\n",
      "  plt.figure(figsize=(1200/my_dpi, 900/my_dpi), dpi=my_dpi) #1200x900 pixel image\n"
     ]
    }
   ],
   "source": [
    "##RA Comparison with 2speaker_L&R 70dBA, 75dBA, 80dBA, 85dBA white noise\n",
    "#matplotlib qt\n",
    "#labels = [0.732, 0.976, 1.098, 1.464, 3.05, 3.904, 4.392, 4.88, 5.856, 7.32] #f2\n",
    "labels = [0.468, 0.624, 0.702, 0.936, 1.950, 2.496, 2.808, 3.12, 3.744, 4.68] #fdp(2f1-f2)\n",
    "plt.figure(figsize=(1200/my_dpi, 900/my_dpi), dpi=my_dpi) #1200x900 pixel image\n",
    "#plt.figure(figsize=(1800/my_dpi, 1000/my_dpi), dpi=my_dpi) #1800x1000 pixel image\n",
    "\n",
    "r, = plt.plot(RA_origin_l3_l, 'r--')\n",
    "t, = plt.plot([15.42907192038146, 15.528941793215878, 16.860277454068424, 9.835509604682457, 2.0966605871184925, 7.648677264691429, 10.88963672188359, 14.198263639816702, 12.646268840947826, 13.052827184310019], 'ko') #20201205 DPOAE_quiet\n",
    "t, = plt.plot([15.42907192038146, 15.528941793215878, 16.860277454068424, 9.835509604682457, 2.0966605871184925, 7.648677264691429, 10.88963672188359, 14.198263639816702, 12.646268840947826, 13.052827184310019], 'k') #20201205 DPOAE_quiet\n",
    "y, = plt.plot(RA_PSD_Cathy_l3_l, 'g--') #PSD\n",
    "n, = plt.plot(optimized_total_noise2sd_PSD , 'g:')\n",
    "plt.legend(handles = [r, t, y, n], labels = ['75dBA white noise','quiet', 'PSD', 'noise_PSD'], prop = {'size' : tick_font['size']})\n",
    "plt.title('DPOAE_%s' %name.split('_')[0], **title_font)\n",
    "plt.xticks(np.arange(len(f1)), labels,  **tick_font)\n",
    "plt.yticks( **tick_font)\n",
    "#plt.xlabel('f2 frequency (kHz)', **axis_font)\n",
    "plt.xlabel('fdp(2f1-f2) frequency (kHz)', **axis_font)\n",
    "plt.ylabel('SPL (dB)', **axis_font)\n",
    "plt.show()\n",
    "plt.savefig('Comparison_RA_DPOAE_PSD_75dBA white noise.png')"
   ]
  },
  {
   "cell_type": "code",
   "execution_count": null,
   "metadata": {},
   "outputs": [],
   "source": []
  }
 ],
 "metadata": {
  "kernelspec": {
   "display_name": "Python 3",
   "language": "python",
   "name": "python3"
  },
  "language_info": {
   "codemirror_mode": {
    "name": "ipython",
    "version": 3
   },
   "file_extension": ".py",
   "mimetype": "text/x-python",
   "name": "python",
   "nbconvert_exporter": "python",
   "pygments_lexer": "ipython3",
   "version": "3.8.3"
  }
 },
 "nbformat": 4,
 "nbformat_minor": 2
}
